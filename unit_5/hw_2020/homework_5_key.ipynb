{
 "cells": [
  {
   "cell_type": "markdown",
   "metadata": {},
   "source": [
    "# Homework 5 Key\n",
    "#### CHE 116: Numerical Methods and Statistics\n",
    "\n",
    "\n",
    "*(2/13/2020)*\n",
    "\n",
    "----"
   ]
  },
  {
   "cell_type": "markdown",
   "metadata": {},
   "source": [
    "# 1. Probability Distribution Identification\n",
    "\n",
    "State What probability distribution best describes the following random numbers:\n",
    "\n",
    "1. The number of times you win in five boxing matches\n",
    "2. Number of days until you drop and break your phone. \n",
    "3. If the temperature is above or below freezing\n",
    "4. The value of the temperature outside\n",
    "5. The number of students who get 4.0 when graduating\n",
    "6. The number of minutes between emails\n",
    "7. The number of emails received in one minute"
   ]
  },
  {
   "cell_type": "markdown",
   "metadata": {},
   "source": [
    "# 2. Computing Outcome Probabilities\n",
    "\n",
    "For the following problems, choose and state an appropriate distribution, write out its parameters based on the problem statement and then compute the requested quantity. Write the distribution information in Markdown/LaTeX and compute answers in Python. Choose only from the distributions presented in lecture.\n",
    "\n",
    "1. The probability of success for becoming a successful actor is 0.01. What is the probability of not becoming a successful actor?\n",
    "\n",
    "2. Five people are competing in an ultra marathon. The probability to complete the ultra marathon is 50%. What is the probability that 3 complete the ultra marathon?\n",
    "\n",
    "3. You are watching deer walk across a street. 10 deer take 5 minutes to cross the street. "
   ]
  },
  {
   "cell_type": "markdown",
   "metadata": {},
   "source": [
    "# 3 Plotting Probability Distributions\n",
    "\n",
    "For each problem below, use numpy to create `x` and `y` arrays which are plotted. Be sure to label your x-axis, y-axis, put the problem number as the title, use at least 500 points, make your figures be 4x3 inches, and add a legend if you have more than one line being plotted.\n",
    "\n",
    "1. [6 points] Plot $y = x^2$ from $-1$ to $1$\n",
    "\n",
    "2. [8 points] A hanging rope, wire, or chain follows a catenary curve ($y = a\\textrm{cosh}\\frac{x}{a} - a$), although many including Galileo mistakenly believed hanging ropes a parabolas. Compare the catenary and parabolic ($y = x^2$) curves over $-1$ to $1$ where $a = 0.63$.\n",
    "\n",
    "3. [8 points] Compare the functions $\\cos x$ and $\\cosh x - 1$ from $-\\pi/2$ to $\\pi/2$"
   ]
  },
  {
   "cell_type": "markdown",
   "metadata": {},
   "source": [
    "# 4 Working with Probability Distributions\n",
    "\n",
    "\n",
    "Use this probability distribution:\n",
    "\n",
    "$$\n",
    "Q = \\{\\textrm{red},\\textrm{ green}, \\textrm{blue}\\}\n",
    "$$\n",
    "\n",
    "$$\n",
    "P(\\textrm{red}) = 0.1,\\, P(\\textrm{green}) = 0.5,\\, P(\\textrm{blue}),\\, = 0.4\n",
    "$$\n",
    "\n",
    "1. [2 points] Create a dictionary called `prob` where the key is the colors as a string and the values are the probability.\n",
    "\n",
    "2. [4 points] Starting with this fragment, show that your probability distribution is normalized.\n",
    "\n",
    "```\n",
    "for key,value in prob.items():\n",
    "    print(key, value)\n",
    "```\n",
    "\n",
    "3. [4 points] Let's define a random variable $X$ that is 1 for red, 2 for green, and 0 for blue. Using your `for` loop from 4.2, use boolean statements to set a variable $x$ to what the value of $X$ should be using the `key` variable. Print out `key, x`, which should look like `red, 1`, `green, 2`...\n",
    "\n",
    "4. [4 points] Compute the expected value of `x` using the `for` loop from 4.3\n",
    "\n",
    "5. [4 points] Compute the variance by hand, showing the steps in Markdown"
   ]
  },
  {
   "cell_type": "code",
   "execution_count": 15,
   "metadata": {},
   "outputs": [],
   "source": [
    "#4.1\n",
    "prob = {'red': 0.1, 'green': 0.5, 'blue': 0.4}"
   ]
  },
  {
   "cell_type": "code",
   "execution_count": 16,
   "metadata": {},
   "outputs": [
    {
     "name": "stdout",
     "output_type": "stream",
     "text": [
      "1.0\n"
     ]
    }
   ],
   "source": [
    "#4.2\n",
    "psum = 0\n",
    "for key, value in prob.items():\n",
    "    psum += value\n",
    "print(psum)"
   ]
  },
  {
   "cell_type": "code",
   "execution_count": 17,
   "metadata": {},
   "outputs": [
    {
     "name": "stdout",
     "output_type": "stream",
     "text": [
      "red 1\n",
      "green 2\n",
      "blue 0\n"
     ]
    }
   ],
   "source": [
    "#4.3\n",
    "for key,value in prob.items():\n",
    "    x = 0\n",
    "    if key == 'red':\n",
    "        x = 1\n",
    "    elif key == 'green':\n",
    "        x = 2\n",
    "    print(key, x)"
   ]
  },
  {
   "cell_type": "code",
   "execution_count": 18,
   "metadata": {},
   "outputs": [
    {
     "name": "stdout",
     "output_type": "stream",
     "text": [
      "1.1\n"
     ]
    }
   ],
   "source": [
    "#4.4\n",
    "ev = 0\n",
    "for key,value in prob.items():\n",
    "    x = 0\n",
    "    if key == 'red':\n",
    "        x = 1\n",
    "    elif key == 'green':\n",
    "        x = 2\n",
    "    ev += x * value\n",
    "print(ev)"
   ]
  },
  {
   "cell_type": "markdown",
   "metadata": {},
   "source": [
    "### 4.5\n",
    "\n",
    "$$\n",
    "Var(x) = E[x^2] - E[x]^2\n",
    "$$\n",
    "\n",
    "$$\n",
    "E[x] = \\sum_Q X(q)P(q)\n",
    "$$\n",
    "\n",
    "$$\n",
    "E[x] = 1 \\times 0.1 + 2 \\times 0.5 + 0 \\times 0.4 = 1.1\n",
    "$$\n",
    "\n",
    "$$\n",
    "E[x] = 1^2 \\times 0.1 + 2^2 \\times 0.5 + 0^2 \\times 0.4 = 2.1\n",
    "$$\n",
    "\n",
    "$$\n",
    "Var(x) = 2.1 - 1.1^2 = 0.89\n",
    "$$"
   ]
  }
 ],
 "metadata": {
  "kernelspec": {
   "display_name": "Python 3",
   "language": "python",
   "name": "python3"
  },
  "language_info": {
   "codemirror_mode": {
    "name": "ipython",
    "version": 3
   },
   "file_extension": ".py",
   "mimetype": "text/x-python",
   "name": "python",
   "nbconvert_exporter": "python",
   "pygments_lexer": "ipython3",
   "version": "3.7.3"
  }
 },
 "nbformat": 4,
 "nbformat_minor": 2
}
