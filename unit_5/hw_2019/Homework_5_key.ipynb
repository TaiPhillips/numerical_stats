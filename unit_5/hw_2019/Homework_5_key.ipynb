{
 "cells": [
  {
   "cell_type": "markdown",
   "metadata": {},
   "source": [
    "Homework 5\n",
    "====\n",
    "#### CHE 116: Numerical Methods and Statistics\n",
    "\n",
    "2/15/2019\n",
    "\n",
    "----"
   ]
  },
  {
   "cell_type": "markdown",
   "metadata": {
    "collapsed": true
   },
   "source": [
    "1 Standard Probility Distributions (7 Points)\n",
    "====\n",
    "\n",
    "Choose below the probability distribution that best fits the described process. Choose only from Bernoulli, Geometric, Binomial, Poisson, Exponential, and Normal. 1 Points each. \n",
    "\n",
    "\n",
    "1. Whether or not it snows on a given day.\n",
    "2. How much snow accumulates in one day .\n",
    "3. How many times you plow snow within one week.\n",
    "4. Plowing the snow only once in a week .\n",
    "5. The time between snowstorms in Rochester in June?\n",
    "6. How often does it snow in Sahara?\n",
    "7. How many road tests one takes before gets the driver's license. "
   ]
  },
  {
   "cell_type": "markdown",
   "metadata": {},
   "source": [
    "### 1.1\n",
    "Bernoulli\n",
    "\n",
    "### 1.2\n",
    "Normal\n",
    "\n",
    "### 1.3\n",
    "Binomial\n",
    "\n",
    "### 1.4\n",
    "Geometeric\n",
    "\n",
    "### 1.5\n",
    "Exponential\n",
    "\n",
    "### 1.6\n",
    "Poisson\n",
    "\n",
    "### 1.7\n",
    "Geomertic"
   ]
  },
  {
   "cell_type": "markdown",
   "metadata": {},
   "source": [
    "2 Plotting Probability Distributions (20 Points)\n",
    "===\n",
    "Plot the probablities using Python. Accurately label x and y axis. State which distribution the plot is decribing. Make distinction in the use of discrete or continuous variables in the plots. Use `for` loops to compute probabilities.\n",
    "\n",
    "\n",
    "\n",
    "1. [6 points] Probablity of a rain in a given day is 0.2. A month contains 31 days. We are interested in probabilities of the first rain happening in any of the day of the month. Plot the probabilities of raining on a given day for the first time for every day of the month. Which day has the highest probability?\n",
    "2. [8 points] The probability of rain is 0.3 in a given day. Plot the number days it will rain and their corresponding probilities in a given month of 31 days. Show the expected value of the distribution as a red vertical line in the plot.\n",
    "\n",
    "3. [6 points]Probability of death cancer is 5%. Compute the probability of any number of people dying from cancer in group of 100 people\n",
    "   \n"
   ]
  },
  {
   "cell_type": "markdown",
   "metadata": {
    "collapsed": true
   },
   "source": [
    "### 2.1\n",
    "\n",
    "Geometric Distribution. According to the plot below the first day has the highest probability"
   ]
  },
  {
   "cell_type": "code",
   "execution_count": 2,
   "metadata": {},
   "outputs": [
    {
     "name": "stdout",
     "output_type": "stream",
     "text": [
      "[1, 2, 3, 4, 5, 6, 7, 8, 9, 10, 11, 12, 13, 14, 15, 16, 17, 18, 19, 20, 21, 22, 23, 24, 25, 26, 27, 28, 29, 30, 31] [0.2, 0.16000000000000003, 0.12800000000000003, 0.10240000000000003, 0.08192000000000002, 0.06553600000000002, 0.052428800000000025, 0.041943040000000015, 0.033554432000000016, 0.026843545600000015, 0.021474836480000013, 0.01717986918400001, 0.013743895347200009, 0.010995116277760009, 0.008796093022208008, 0.007036874417766407, 0.005629499534213125, 0.004503599627370501, 0.0036028797018964006, 0.0028823037615171208, 0.0023058430092136968, 0.0018446744073709574, 0.001475739525896766, 0.001180591620717413, 0.0009444732965739304, 0.0007555786372591443, 0.0006044629098073155, 0.0004835703278458524, 0.00038685626227668196, 0.0003094850098213456, 0.00024758800785707646]\n"
     ]
    },
    {
     "data": {
      "text/plain": [
       "<Figure size 640x480 with 1 Axes>"
      ]
     },
     "metadata": {},
     "output_type": "display_data"
    }
   ],
   "source": [
    "import matplotlib.pyplot as plt\n",
    "import numpy as np\n",
    "#set parameter\n",
    "p = 0.2\n",
    "x=[]   #days\n",
    "y=[]  #probanilities\n",
    "#init sum for expetation\n",
    "#for loop over sample space\n",
    "for i in range(1, 32):\n",
    "    # P(i) * i\n",
    "    x.append(i)\n",
    "    y.append((1 - p)**(i - 1) * p) \n",
    "print(x,y)\n",
    "plt.plot(x,y, 'o')\n",
    "plt.xlabel('Days')\n",
    "plt.ylabel('Probability of the first snow')\n",
    "plt.show()"
   ]
  },
  {
   "cell_type": "markdown",
   "metadata": {},
   "source": [
    "### 2.2\n",
    "Binomial Distribution.Probablity is printed below"
   ]
  },
  {
   "cell_type": "code",
   "execution_count": 3,
   "metadata": {},
   "outputs": [
    {
     "name": "stdout",
     "output_type": "stream",
     "text": [
      "The probability that is will rain 5 days out 31 is: 0.03875937897109657 9.299999999999999\n"
     ]
    },
    {
     "name": "stderr",
     "output_type": "stream",
     "text": [
      "/anaconda3/lib/python3.6/site-packages/ipykernel_launcher.py:15: DeprecationWarning: `comb` is deprecated!\n",
      "Importing `comb` from scipy.misc is deprecated in scipy 1.0.0. Use `scipy.special.comb` instead.\n",
      "  from ipykernel import kernelapp as app\n"
     ]
    },
    {
     "data": {
      "text/plain": [
       "[<matplotlib.lines.Line2D at 0x1159fb438>]"
      ]
     },
     "execution_count": 3,
     "metadata": {},
     "output_type": "execute_result"
    },
    {
     "data": {
      "image/png": "[encoded data removed]",
      "text/plain": [
       "<Figure size 432x288 with 1 Axes>"
      ]
     },
     "metadata": {
      "needs_background": "light"
     },
     "output_type": "display_data"
    }
   ],
   "source": [
    "from scipy.special import comb\n",
    "\n",
    "# set parametrs\n",
    "p = 0.3\n",
    "N = 31\n",
    "n=5\n",
    "#binomial dist equation\n",
    "days=[]\n",
    "prob=[]\n",
    "\n",
    "\n",
    "\n",
    "for i in range(1,N+1):\n",
    "    days.append(i)\n",
    "    prob.append(comb(N, i) * (1 - p)**(N - i) * p**(i))\n",
    "\n",
    "print('The probability that is will rain 5 days out 31 is:',prob[4], N*p)\n",
    "plt.plot(days,prob, 'o')\n",
    "plt.plot(N*p*(np.ones((10))),np.linspace(0,0.16, 10), 'r')"
   ]
  },
  {
   "cell_type": "markdown",
   "metadata": {},
   "source": [
    "### 2.3\n",
    "Poisson Distribution"
   ]
  },
  {
   "cell_type": "code",
   "execution_count": 4,
   "metadata": {},
   "outputs": [
    {
     "data": {
      "image/png": "[encoded data removed]",
      "text/plain": [
       "<Figure size 432x288 with 1 Axes>"
      ]
     },
     "metadata": {
      "needs_background": "light"
     },
     "output_type": "display_data"
    }
   ],
   "source": [
    "#set parameters\n",
    "import math\n",
    "N=100\n",
    "\n",
    "mu = 1/20*N\n",
    "x =[]\n",
    "prob=[]\n",
    "#equation for Poisson\n",
    "for person in range(1, N+1):\n",
    "    x.append(person)\n",
    "    prob.append(math.exp(-mu) * mu ** person/ (math.factorial(person)))\n",
    "plt.plot(x,prob, 'o')\n",
    "plt.show()"
   ]
  },
  {
   "cell_type": "markdown",
   "metadata": {},
   "source": [
    "3 Working with Probability Distributions (19 Points)\n",
    "====\n",
    "For the following problems, choose and state an appropriate distribution, write out its parameters based on the problem statement and then compute the requested quantity. Write the distribution information in Markdown/LaTeX and compute answers in Python. Use `for` loops for computing expected value and prediction intervals. Do not use `numpy` or the formulas given in lecture notes. Assume in all these examples that multiple trials are independent.\n",
    "\n",
    "\n",
    "1. [2 points] Let's assume total solar eclipse  happens in continental USA every 38 years. The Last total solar eclipse was in 2017 in USA. What is probability of total solar eclipse in continental USA in 2020? *Remember to read the instruction above!!*\n",
    "\n",
    "2. [2 points] Let's assume Lyft drivers pick up clients at probability of 3% at any given time. What is the probability of a Lyft driver taking only 10 people of out 400 clients. \n",
    "3. [2 points] You are teaching your son the alphabet, the probability of him saying the letter A correctly is 0.1. After 10 tries, what is probability he will say the letter A correctly once?  \n",
    "\n",
    "\n",
    "4. [2 points] In January, you applied to 50 jobs. The probability of getting an interview is 0.3 for in January. What is the probablity that you get 7 interviews that month? What is the expected value of this distribution?    \n",
    "\n",
    "5. [5 points] Bees disappearing at 23% according the USDA from 2013 to 2014. What is the probability of butterflies dying off in 50 years?  \n",
    "\n",
    "6. [4 points] On average you run with probability of 0.4 per day. What is the expected value of the days during which you run.\n"
   ]
  },
  {
   "cell_type": "markdown",
   "metadata": {},
   "source": [
    "### 3.1\n",
    "Exponential Distribution"
   ]
  },
  {
   "cell_type": "code",
   "execution_count": 5,
   "metadata": {},
   "outputs": [
    {
     "name": "stdout",
     "output_type": "stream",
     "text": [
      "Probability of the total solar eclipse is  0.02431811998434676\n"
     ]
    }
   ],
   "source": [
    "#set parameter\n",
    "lamda = 1/38 # units of inverse years\n",
    "time=2020-2017  #years\n",
    "print('Probability of the total solar eclipse is ',lamda*np.exp(-lamda*time))\n"
   ]
  },
  {
   "cell_type": "markdown",
   "metadata": {},
   "source": [
    "### 3.2\n",
    "Poisson distribution"
   ]
  },
  {
   "cell_type": "code",
   "execution_count": 37,
   "metadata": {},
   "outputs": [
    {
     "name": "stdout",
     "output_type": "stream",
     "text": [
      "The probablity of picking up 10 clients is:  0.10483725588365932\n"
     ]
    }
   ],
   "source": [
    "N=400\n",
    "p=0.03\n",
    "mu=N*p\n",
    "x=10\n",
    "print('The probablity of picking up 10 clients is: ', (np.exp(-mu)*mu**x)/math.factorial(x))"
   ]
  },
  {
   "cell_type": "markdown",
   "metadata": {},
   "source": [
    "### 3.3\n",
    "Geometric distribution"
   ]
  },
  {
   "cell_type": "code",
   "execution_count": 7,
   "metadata": {},
   "outputs": [
    {
     "name": "stdout",
     "output_type": "stream",
     "text": [
      "The probability of saying the letter correctly once within 10 tries is: 0.03874204890000001\n"
     ]
    }
   ],
   "source": [
    "p=0.1\n",
    "N=10\n",
    "print('The probability of saying the letter correctly once within 10 tries is:',(1 - p)**(N- 1) * p)"
   ]
  },
  {
   "cell_type": "markdown",
   "metadata": {},
   "source": [
    "### 3.4\n",
    "Binomial distribution"
   ]
  },
  {
   "cell_type": "code",
   "execution_count": 8,
   "metadata": {},
   "outputs": [
    {
     "name": "stdout",
     "output_type": "stream",
     "text": [
      "The probability of getting 7 interviews out of 50 jobs applications is: 0.004770480981935465\n"
     ]
    },
    {
     "name": "stderr",
     "output_type": "stream",
     "text": [
      "/anaconda3/lib/python3.6/site-packages/ipykernel_launcher.py:4: DeprecationWarning: `comb` is deprecated!\n",
      "Importing `comb` from scipy.misc is deprecated in scipy 1.0.0. Use `scipy.special.comb` instead.\n",
      "  after removing the cwd from sys.path.\n"
     ]
    }
   ],
   "source": [
    "p=0.3\n",
    "n=7\n",
    "N=50\n",
    "print('The probability of getting 7 interviews out of 50 jobs applications is:',comb(N, n) * (1 - p)**(N - n) * p**(n))\n"
   ]
  },
  {
   "cell_type": "markdown",
   "metadata": {},
   "source": [
    "### 3.5 \n",
    "Binomial"
   ]
  },
  {
   "cell_type": "code",
   "execution_count": 9,
   "metadata": {},
   "outputs": [
    {
     "name": "stdout",
     "output_type": "stream",
     "text": [
      "The expected value of days during which you run is: 2.8000000000000003\n"
     ]
    }
   ],
   "source": [
    "p=0.4   #per year\n",
    "N=7\n",
    "print('The expected value of days during which you run is:', N*p)"
   ]
  }
 ],
 "metadata": {
  "kernelspec": {
   "display_name": "Python 3",
   "language": "python",
   "name": "python3"
  },
  "language_info": {
   "codemirror_mode": {
    "name": "ipython",
    "version": 3
   },
   "file_extension": ".py",
   "mimetype": "text/x-python",
   "name": "python",
   "nbconvert_exporter": "python",
   "pygments_lexer": "ipython3",
   "version": "3.6.6"
  }
 },
 "nbformat": 4,
 "nbformat_minor": 2
}
