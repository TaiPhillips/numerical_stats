{
 "cells": [
  {
   "cell_type": "markdown",
   "metadata": {},
   "source": [
    "Homework 5\n",
    "====\n",
    "#### CHE 116: Numerical Methods and Statistics\n",
    "\n",
    "2/15/2018\n",
    "\n",
    "----"
   ]
  },
  {
   "cell_type": "markdown",
   "metadata": {},
   "source": [
    "1 Combinations (18 Points)\n",
    "====\n",
    "\n",
    "1. [2 points] A family may have up to 3 cars. On a street with 5 families, how many possibilities of car ownership among the 5 families can their be? Assume the families can be distinguished.\n",
    "\n",
    "2. [2 points] You are playing starcraft matches against your friend. You have won 7 out of 10 matches. How many sequences of win/lose could arrive at such a score of 7 - 3 (7 wins, 3 losses). For example, one sequence is Win, Lose, Win, Win, Win, Win, Lose, Lose, Win, Win. *Hint: Try thinking about this as a rearranging letters problem*\n",
    "\n",
    "3. [2 points] You have a sequences of 0s and 1s. Let $k$ represent the number of 1s and $n$ be the length of the sequence. For example, $01110$ has $k = 3$ and $n = 5$. How many sequences are there for a fixed $n$ and $k$? \n",
    "\n",
    "4. [4 points] The equation from problem 1.3 has been seen in unit 2 in a different context. What was it used to calculate? What is different about its use there and the examples from problem 1.3 and 1.2?\n",
    "\n",
    "5. [5 points] Using your information from 1.2 through 1.4 reason about the purpose of the binomial coefficient in the formula for the binomial probability distribution.\n",
    "\n",
    "6. [2 points] You have 8 textbooks but you can only carry 3 at a time. How many possible combinations of textbooks can you carry?"
   ]
  },
  {
   "cell_type": "markdown",
   "metadata": {},
   "source": [
    "### 1.1\n",
    "Can assume families can own 0 cars or must own 1 car.\n",
    "$$\n",
    "3^{5} = 243\\,, 4^5 = 1024\n",
    "$$\n",
    "\n",
    "### 1.2\n",
    "\n",
    "Imagine the word 'WWWLLLLLLL'. Following our lecture examples, the number of ways to arrange these letters is:\n",
    "\n",
    "$$\n",
    "\\frac{10!}{7!3!} = 120\n",
    "$$\n",
    "\n",
    "\n",
    "### 1.3\n",
    "\n",
    "$$\n",
    "\\frac{n!}{k!(n - k)!}\n",
    "$$\n",
    "\n",
    "### 1.4\n",
    "\n",
    "It is the equation for the number of size $k$ combinations with repeats composed of $n$ objects. Here we are exploring permutations where we have a fixed number of one object (success) and a fixed size. \n",
    "\n",
    "### 1.5\n",
    "It is the number of permutations for a given number of success and failures. This accounts for the multiple ways to get 7 successes in 10 trials, for example."
   ]
  },
  {
   "cell_type": "markdown",
   "metadata": {},
   "source": [
    "2 Working with Probability Distributions (20 Points)\n",
    "===\n",
    "\n",
    "Consider a probability distribution with a 5 element sample space: $Q = \\{-3, 0, 2, 3, 6\\}$ whose probabilities are $\\{1 / 10,\\, 4 / 10, \\,1/ 10, \\,2 / 10,\\, 2 / 10\\}$ respectively. For example, $P(3) = 2 / 10$. Answer the following questions below:\n",
    "\n",
    "1. [5 points] Show that the probability distribution is normalized. Use a for loop and the `+=` operator\n",
    "\n",
    "2. [5 points] What is the distribution's expected value? Use a for loop and the `+=` operator *Hint: try iterating over the index of the array to visit elements in both arrayss using this syntax: `for i in range(len(Q)):`, where `Q` is a list containing the elements in the sample space. Try Python tutor if needed.*\n",
    "\n",
    "3. [5 points] What is the distribution's variance? Use numpy to evaluate this, but do not use the built in `var` or `std` functions. You can reuse value for $E[X]$ from 2.2. *Hint: convert your lists to np arrays using the `np.array(Q)` syntax. You should only need the `np.sum` and no other `numpy` functions.\n",
    "\n",
    "4. [5 points] Define the random variable $S(x) = x^2$. What is $\\textrm{E}[S]$. Use a for loop"
   ]
  },
  {
   "cell_type": "code",
   "execution_count": 1,
   "metadata": {},
   "outputs": [
    {
     "name": "stdout",
     "output_type": "stream",
     "text": [
      "1.0\n"
     ]
    }
   ],
   "source": [
    "#2.1\n",
    "\n",
    "#enter data\n",
    "Q = [-3, 0, 2, 3, 6]\n",
    "P = [1/10, 4/10, 1/10, 2/10, 2/10]\n",
    "\n",
    "#initialize psum\n",
    "psum = 0\n",
    "#iterate over index i\n",
    "for i in range(len(Q)):\n",
    "    #add up probabilities\n",
    "    psum += P[i]\n",
    "#print result\n",
    "print(psum)"
   ]
  },
  {
   "cell_type": "code",
   "execution_count": 2,
   "metadata": {},
   "outputs": [
    {
     "name": "stdout",
     "output_type": "stream",
     "text": [
      "1.7000000000000002\n"
     ]
    }
   ],
   "source": [
    "#2.2\n",
    "\n",
    "#initialize expectation value\n",
    "ex = 0\n",
    "#iterate over index i\n",
    "for i in range(len(Q)):\n",
    "    #add up product of probability and element in sample space\n",
    "    ex += P[i] * Q[i]\n",
    "#print result\n",
    "print(ex)"
   ]
  },
  {
   "cell_type": "code",
   "execution_count": 3,
   "metadata": {},
   "outputs": [
    {
     "name": "stdout",
     "output_type": "stream",
     "text": [
      "7.41\n"
     ]
    }
   ],
   "source": [
    "#2.3\n",
    "\n",
    "import numpy as np\n",
    "\n",
    "#convert to numpy arrays\n",
    "Parray = np.array(P)\n",
    "Qarray = np.array(Q)\n",
    "\n",
    "ex2 = np.sum(Parray * Qarray**2)\n",
    "\n",
    "var = ex2 - ex**2\n",
    "\n",
    "print(var)"
   ]
  },
  {
   "cell_type": "code",
   "execution_count": 4,
   "metadata": {},
   "outputs": [
    {
     "name": "stdout",
     "output_type": "stream",
     "text": [
      "10.3\n"
     ]
    }
   ],
   "source": [
    "#initialize expectation value\n",
    "exS = 0\n",
    "#iterate over index i\n",
    "for i in range(len(Q)):\n",
    "    #add up product of probability and element in sample space\n",
    "    exS += P[i] * Q[i]**2\n",
    "#print result\n",
    "print(exS)"
   ]
  },
  {
   "cell_type": "markdown",
   "metadata": {
    "collapsed": true
   },
   "source": [
    "3 Standard Probility Distributions (7 Points)\n",
    "====\n",
    "\n",
    "Choose below the probability distribution that best fits the described process. Choose only from Bernoulli, Geometric, Binomial, Poisson, Exponential, and Normal. 1 Points each. \n",
    "\n",
    "\n",
    "1. Number of lottery winners\n",
    "2. Number of students who completed their homework in a class with 25 students.\n",
    "3. The speed of a car on the highway\n",
    "4. The number of collisions before a chemical reaction happens between two molecules\n",
    "5. Whether or not your front door is open\n",
    "6. The time between seeing your best friend\n",
    "7. The number of occupied tables in a restaurant with 18 tables."
   ]
  },
  {
   "cell_type": "markdown",
   "metadata": {},
   "source": [
    "### 3.1\n",
    "Poisson\n",
    "\n",
    "### 3.2\n",
    "Binomial\n",
    "\n",
    "### 3.3\n",
    "Normal\n",
    "\n",
    "### 3.4\n",
    "Geometric\n",
    "\n",
    "### 3.5\n",
    "Bernoulli\n",
    "\n",
    "### 3.6\n",
    "Exponential\n",
    "\n",
    "### 3.7\n",
    "Binomial"
   ]
  },
  {
   "cell_type": "markdown",
   "metadata": {},
   "source": [
    "4 Working with Probability Distributions (19 Points + 5 Extra Credit)\n",
    "====\n",
    "For the following problems, choose and state an appropriate distribution, write out its parameters based on the problem statement and then compute the requested quantity. Write the distribution information in Markdown/LaTeX and compute answers in Python. Use `for` loops for computing expected value and prediction intervals. Do not use `numpy` or the formulas given in lecture notes. For the geometric distribution or Poisson distribution, replace the $\\infty$ with a large number like 500. Assume in all these examples that multiple trials are independent.\n",
    "\n",
    "\n",
    "1. [2 points] You go from store to store trying to find a special toy for your dog. Stores have the toy with probability 0.3. What's the expected number of store you must visit before obtaining the toy? *Remember to read the instruction above!!*\n",
    "\n",
    "2. [2 points] When you open the door for your dog, there is a 0.38 probability of him going outside. What is the probability of the dog not going outside?\n",
    "\n",
    "3. [2 points] You are playing fetch with your dog. He retrieves the ball which you throw with probability 0.8. After 5 throws, what's the probability of him returning the ball only once?\n",
    "\n",
    "4. [2 points] You give your dog 4 treats per day on average. What is the probability of your dog receives 10 treats?\n",
    "\n",
    "5. [4 points] Your dog is running laps around the house where the time between the laps is 30 seconds. What's the probability of the dog completing a lap less than 10 seconds? *Hint: compute the integral analytically in LaTeX, then evaluate the upper/lower terms in Python. \n",
    "\n",
    "6. [5 points] You are hunting for dog poop in the yard. You check the dog's 10 favorite places to poop. Each can hold 1 or 0 poops. If the probability of your dog pooping in a spot is 0.3, what is the probability of finding more than 6 poops?\n",
    "\n",
    "7. [2 points] Your dog is \"one in a million\". Given that there are 73 million dogs in the US, what is the probability your dog is truly unique. In other words, what is the probability that there are 0 dogs like yours.\n",
    "\n",
    "8. [Extra Credit 5 Points] Repeat problem 4.1 but find how many stores you need to visit to have a 90% chance of finding the toy."
   ]
  },
  {
   "cell_type": "markdown",
   "metadata": {
    "collapsed": true
   },
   "source": [
    "### 4.1\n",
    "\n",
    "Geometric. $p=0.3$"
   ]
  },
  {
   "cell_type": "code",
   "execution_count": 5,
   "metadata": {},
   "outputs": [
    {
     "name": "stdout",
     "output_type": "stream",
     "text": [
      "3.3333333333333326\n"
     ]
    }
   ],
   "source": [
    "#set parameter\n",
    "p = 0.3\n",
    "\n",
    "#init sum for expectation\n",
    "ex = 0\n",
    "#for loop over sample space\n",
    "for i in range(1, 500):\n",
    "    # P(i) * i\n",
    "    ex += ((1 - p)**(i - 1) * p) * i\n",
    "print(ex)"
   ]
  },
  {
   "cell_type": "markdown",
   "metadata": {},
   "source": [
    "### 4.2\n",
    "Bernoulli. $p=0.38$"
   ]
  },
  {
   "cell_type": "code",
   "execution_count": 6,
   "metadata": {},
   "outputs": [
    {
     "data": {
      "text/plain": [
       "0.62"
      ]
     },
     "execution_count": 6,
     "metadata": {},
     "output_type": "execute_result"
    }
   ],
   "source": [
    "1 - 0.38"
   ]
  },
  {
   "cell_type": "markdown",
   "metadata": {},
   "source": [
    "### 4.3\n",
    "Binomial. $p = 0.8$, $N = 5$"
   ]
  },
  {
   "cell_type": "code",
   "execution_count": 7,
   "metadata": {},
   "outputs": [
    {
     "name": "stdout",
     "output_type": "stream",
     "text": [
      "0.0064\n"
     ]
    }
   ],
   "source": [
    "from scipy.special import comb\n",
    "\n",
    "# set parametrs\n",
    "p = 0.8\n",
    "N = 5\n",
    "#binomial dist equation\n",
    "prob = comb(N, 1) * (1 - p)**(N - 1) * p**(1)\n",
    "print(prob)"
   ]
  },
  {
   "cell_type": "markdown",
   "metadata": {},
   "source": [
    "### 4.4\n",
    "Poisson. $\\mu = 4$"
   ]
  },
  {
   "cell_type": "code",
   "execution_count": 8,
   "metadata": {},
   "outputs": [
    {
     "name": "stdout",
     "output_type": "stream",
     "text": [
      "0.0052924766764201195\n"
     ]
    }
   ],
   "source": [
    "import math\n",
    "\n",
    "#set parameters\n",
    "mu = 4\n",
    "x = 10\n",
    "#equation for Poisson\n",
    "prob = math.exp(-mu) * mu ** x / (math.factorial(x))\n",
    "print(prob)"
   ]
  },
  {
   "cell_type": "markdown",
   "metadata": {},
   "source": [
    "### 4.5\n",
    "Exponential. $\\lambda = 1 / 30$\n",
    "\n",
    "$$\n",
    "P(x < 10) = \\int_0^{10} \\lambda e^{-\\lambda x}\\,dx = \\left. -e^{-\\lambda x}\\right]_0^{10} = 1 - e^{-\\lambda 10}\n",
    "$$"
   ]
  },
  {
   "cell_type": "code",
   "execution_count": 9,
   "metadata": {},
   "outputs": [
    {
     "data": {
      "text/plain": [
       "0.28346868942621073"
      ]
     },
     "execution_count": 9,
     "metadata": {},
     "output_type": "execute_result"
    }
   ],
   "source": [
    "1 - math.exp(-10 / 30)"
   ]
  },
  {
   "cell_type": "markdown",
   "metadata": {},
   "source": [
    "### 4.6\n",
    "\n",
    "Binomial. $N = 10$, $p = 0.3$"
   ]
  },
  {
   "cell_type": "code",
   "execution_count": 10,
   "metadata": {},
   "outputs": [
    {
     "name": "stdout",
     "output_type": "stream",
     "text": [
      "0.0105920784\n"
     ]
    }
   ],
   "source": [
    "# set parametrs\n",
    "p = 0.3\n",
    "N = 10\n",
    "\n",
    "#summing over possible numbers of poops \n",
    "psum = 0\n",
    "for i in range(7, N + 1):\n",
    "    #binomial dist equation\n",
    "    psum += comb(N, i) * (1 - p)**(N - i) * p**(i)\n",
    "print(psum)"
   ]
  },
  {
   "cell_type": "markdown",
   "metadata": {},
   "source": [
    "Poisson. $p = 1 / 10^6$, $N = 73 \\times 10^6$, $\\mu = 73$. Can choose $x = 0$ or $x = 1$, as \"no other dogs like yours\" or \"your dog is one of a kind\" are both valid interpretations. "
   ]
  },
  {
   "cell_type": "code",
   "execution_count": 11,
   "metadata": {},
   "outputs": [
    {
     "name": "stdout",
     "output_type": "stream",
     "text": [
      "1.9792598779469045e-32\n"
     ]
    }
   ],
   "source": [
    "#set parameters\n",
    "mu = 73\n",
    "x = 0\n",
    "#equation for Poisson\n",
    "prob = math.exp(-mu) * mu ** x / (math.factorial(x))\n",
    "print(prob)"
   ]
  },
  {
   "cell_type": "markdown",
   "metadata": {},
   "source": [
    "### 4.7"
   ]
  },
  {
   "cell_type": "code",
   "execution_count": 12,
   "metadata": {},
   "outputs": [
    {
     "name": "stdout",
     "output_type": "stream",
     "text": [
      "7 stores\n"
     ]
    }
   ],
   "source": [
    "#set parameter\n",
    "p = 0.3\n",
    "\n",
    "#init sum for prob\n",
    "psum = 0\n",
    "#for loop over sample space\n",
    "for i in range(1, 500):\n",
    "    # P(i)\n",
    "    psum += ((1 - p)**(i - 1) * p)\n",
    "    if psum >= 0.9:\n",
    "        break\n",
    "print(i, 'stores')"
   ]
  }
 ],
 "metadata": {
  "kernelspec": {
   "display_name": "Python 3",
   "language": "python",
   "name": "python3"
  },
  "language_info": {
   "codemirror_mode": {
    "name": "ipython",
    "version": 3
   },
   "file_extension": ".py",
   "mimetype": "text/x-python",
   "name": "python",
   "nbconvert_exporter": "python",
   "pygments_lexer": "ipython3",
   "version": "3.6.2"
  }
 },
 "nbformat": 4,
 "nbformat_minor": 2
}
