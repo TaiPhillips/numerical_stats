{
 "cells": [
  {
   "cell_type": "markdown",
   "metadata": {
    "slideshow": {
     "slide_type": "slide"
    }
   },
   "source": [
    "Solving Ordinary Differential Equations\n",
    "====\n",
    "\n",
    "## Unit 13, Lecture 1\n",
    "\n",
    "*Numerical Methods and Statistics*\n",
    "\n",
    "----\n",
    "\n",
    "#### Prof. Andrew White, April 24 2018"
   ]
  },
  {
   "cell_type": "code",
   "execution_count": 1,
   "metadata": {
    "slideshow": {
     "slide_type": "skip"
    }
   },
   "outputs": [],
   "source": [
    "%matplotlib inline\n",
    "import random\n",
    "import numpy as np\n",
    "import matplotlib.pyplot as plt\n",
    "from math import sqrt, pi, erf\n",
    "import seaborn\n",
    "seaborn.set_context(\"talk\")\n",
    "import scipy.stats"
   ]
  },
  {
   "cell_type": "markdown",
   "metadata": {
    "slideshow": {
     "slide_type": "slide"
    }
   },
   "source": [
    "Goals:\n",
    "---\n",
    "\n",
    "0. Know the definition of ordinary differential equation\n",
    "1. Be able to determine the order of an ordinary differential equation\n",
    "2. Convert ordinary differential equations into standard form\n",
    "3. Implement ordinary differential equations into python\n",
    "4. Interpret the output from the ordinary differential equation solver in scipy"
   ]
  },
  {
   "cell_type": "markdown",
   "metadata": {
    "slideshow": {
     "slide_type": "slide"
    }
   },
   "source": [
    "Classification of Ordinary Differential Equations\n",
    "===="
   ]
  },
  {
   "cell_type": "markdown",
   "metadata": {
    "slideshow": {
     "slide_type": "fragment"
    }
   },
   "source": [
    "The word ordinary means that there are no partial derivative terms nor are there boundary conditions (only initial conditions)."
   ]
  },
  {
   "cell_type": "markdown",
   "metadata": {
    "slideshow": {
     "slide_type": "subslide"
    }
   },
   "source": [
    "1$^\\textrm{st}$ Order vs. 2$^\\textrm{nd}$ Order\n",
    "---\n",
    "\n",
    "A 1$^\\textrm{st}$ order only has first derivatives and a second order has second derivatives and often first derivatives."
   ]
  },
  {
   "cell_type": "markdown",
   "metadata": {
    "slideshow": {
     "slide_type": "fragment"
    }
   },
   "source": [
    "*First order Example:*\n",
    "\n",
    "  * $\\frac{dC}{dt} = -rC$ The rate of chage of concentration of a chemical species as a reaction proceeds\n",
    "  \n",
    "  * $\\frac{dV}{dt} = kt$ Filling a tank at a constant rate ($k$)\n",
    "  \n",
    "  * $\\frac{dV}{dt} = kt - A_{out}\\sqrt{2g\\frac{V}{A}}$ Filling a tank with a hole in it\n",
    "  "
   ]
  },
  {
   "cell_type": "markdown",
   "metadata": {
    "slideshow": {
     "slide_type": "subslide"
    }
   },
   "source": [
    "*Second order Examples:*\n",
    "  \n",
    "  * $\\frac{d^2x}{dt^2} + k x = 0$ An ideal spring-mass system\n",
    "  \n",
    "  * $\\frac{d^2x}{dt^2} + b \\frac{dx}{dt} + k x = 0$ A spring-mass system with dampening\n",
    "  \n",
    "  * $\\frac{d^2T}{dx^2} = x$ Fourier's law of heat conduction"
   ]
  },
  {
   "cell_type": "markdown",
   "metadata": {
    "slideshow": {
     "slide_type": "slide"
    }
   },
   "source": [
    "Solving ODEs in Python\n",
    "===\n",
    "\n",
    "Python can hanlde any order of system of ordinary differential equations. It cannot handle coupled (PDEs) or boundary problems. For those and all other things not in `scipy`, see this list of [numerical methods in python](http://www.scipy.org/topical-software.html)"
   ]
  },
  {
   "cell_type": "markdown",
   "metadata": {
    "slideshow": {
     "slide_type": "subslide"
    }
   },
   "source": [
    "To solve an ODE in python and all other programming languages/packages:\n",
    "\n",
    "1. Convert to standard form\n",
    "2. Implement the standardized equation as a Python function\n",
    "3. Create a grid of points where you want to evaluate the ODE\n",
    "4. Call `odeint` with the function, initial value, and grid"
   ]
  },
  {
   "cell_type": "markdown",
   "metadata": {
    "slideshow": {
     "slide_type": "slide"
    }
   },
   "source": [
    "Converting to Standard Form\n",
    "===="
   ]
  },
  {
   "cell_type": "markdown",
   "metadata": {
    "slideshow": {
     "slide_type": "subslide"
    }
   },
   "source": [
    "The standard form is:\n",
    "\n",
    "$$ \\frac{dy}{dt} = f(y,t)$$\n",
    "\n",
    "All first order, second order and $n$th order ODEs can be conevrted into this form. Let's see some examples."
   ]
  },
  {
   "cell_type": "markdown",
   "metadata": {
    "slideshow": {
     "slide_type": "subslide"
    }
   },
   "source": [
    "Converting 1st Order to Standard Form\n",
    "---"
   ]
  },
  {
   "cell_type": "markdown",
   "metadata": {
    "slideshow": {
     "slide_type": "fragment"
    }
   },
   "source": [
    "The chemical reaction example:\n",
    "  $$\\frac{dC(t)}{dt} = -rC(t)$$\n",
    "is already in standard form. So are all the other first-order examples given above."
   ]
  },
  {
   "cell_type": "markdown",
   "metadata": {
    "slideshow": {
     "slide_type": "subslide"
    }
   },
   "source": [
    "Converting 2nd Order to Standard Form\n",
    "---\n",
    "\n",
    "The trick for the 2nd order form is to create a second dimension, the dimensions of the derivative, which turns the problem into 2D 1st order ODE. Let's see the spring mass system first:\n",
    "\n",
    "$$\\frac{d^2x(t)}{dt^2} + k\\, x(t)= 0$$\n",
    "\n",
    "Now we'll use a $x_1(t) = x(t)$ and $x_2(t) = \\frac{dx(t)}{dt}$. I'll drop the function notation for simplicity now\n",
    "\n",
    "$$\\frac{dx_2}{dt} + kx_1 = 0$$"
   ]
  },
  {
   "cell_type": "markdown",
   "metadata": {
    "slideshow": {
     "slide_type": "subslide"
    }
   },
   "source": [
    "$$\\frac{dx_2}{dt} = -k x_1$$\n",
    "\n",
    "$$\\frac{dx_1}{dt} = x_2 $$\n",
    "\n",
    "Now we have two dimensions and their ODEs are both in standard form. "
   ]
  },
  {
   "cell_type": "markdown",
   "metadata": {
    "slideshow": {
     "slide_type": "subslide"
    }
   },
   "source": [
    "Let's see the Fourier equation as another example:\n",
    "\n",
    "$$\\frac{d^2T}{dx^2} = x$$\n",
    "\n",
    "$$T_1 = T$$\n",
    "\n",
    "$$T_2 = \\frac{dT}{dx}$$"
   ]
  },
  {
   "cell_type": "markdown",
   "metadata": {
    "slideshow": {
     "slide_type": "subslide"
    }
   },
   "source": [
    "Original diff eq: $$\\frac{dT_2}{dx} = x$$\n",
    "\n",
    "Result of our definition: $$\\frac{dT_1}{dx} = T_2$$"
   ]
  },
  {
   "cell_type": "markdown",
   "metadata": {
    "slideshow": {
     "slide_type": "slide"
    }
   },
   "source": [
    "Implementing the functions in Python\n",
    "==="
   ]
  },
  {
   "cell_type": "markdown",
   "metadata": {
    "slideshow": {
     "slide_type": "fragment"
    }
   },
   "source": [
    "We need to implement the right-hand side of this equation:\n",
    "\n",
    "$$\\frac{dC}{dt} = -rC$$\n",
    "\n"
   ]
  },
  {
   "cell_type": "code",
   "execution_count": 2,
   "metadata": {
    "slideshow": {
     "slide_type": "subslide"
    }
   },
   "outputs": [],
   "source": [
    "def rxn_d(C, t, r=1):\n",
    "    #I added a default argument so that I can easily solve\n",
    "    return -r * C"
   ]
  },
  {
   "cell_type": "markdown",
   "metadata": {
    "slideshow": {
     "slide_type": "subslide"
    }
   },
   "source": [
    "Let's see the spring-mass system:\n",
    "\n",
    "\n",
    "$$\\frac{dx_1}{dt} = x_2 $$\n",
    "\n",
    "\n",
    "$$\\frac{dx_2}{dt} = -k x_1$$\n",
    "\n",
    "Our function should return the RHS of the governing ODEs for each equation."
   ]
  },
  {
   "cell_type": "code",
   "execution_count": 3,
   "metadata": {
    "slideshow": {
     "slide_type": "subslide"
    }
   },
   "outputs": [],
   "source": [
    "def ideal_spring(x,t,k=1):\n",
    "    #This will get x as a vector!\n",
    "    return np.array([x[1], x[0] * -k])"
   ]
  },
  {
   "cell_type": "markdown",
   "metadata": {
    "slideshow": {
     "slide_type": "subslide"
    }
   },
   "source": [
    "We'll do Fouier's law now:\n",
    "\n",
    "$$\\frac{dT_1}{dx} = T_2$$\n",
    "\n",
    "$$\\frac{dT_2}{dx} = x$$"
   ]
  },
  {
   "cell_type": "code",
   "execution_count": 4,
   "metadata": {
    "slideshow": {
     "slide_type": "subslide"
    }
   },
   "outputs": [],
   "source": [
    "def fourier(T, x, k=1):\n",
    "    return np.array([T[1], k * x])"
   ]
  },
  {
   "cell_type": "markdown",
   "metadata": {
    "slideshow": {
     "slide_type": "slide"
    }
   },
   "source": [
    "Using ODEInt In Python\n",
    "===\n",
    "\n",
    "Let's solve the reaction system"
   ]
  },
  {
   "cell_type": "code",
   "execution_count": 5,
   "metadata": {
    "slideshow": {
     "slide_type": "subslide"
    }
   },
   "outputs": [
    {
     "data": {
      "image/png": "[encoded data removed]",
      "text/plain": [
       "<matplotlib.figure.Figure at 0x7fbad8886390>"
      ]
     },
     "metadata": {},
     "output_type": "display_data"
    }
   ],
   "source": [
    "import scipy.integrate\n",
    "\n",
    "#my initial condition\n",
    "c_init = 1.0\n",
    "\n",
    "#where I want to evaluate my function\n",
    "t_points = np.linspace(0,5, 100)\n",
    "\n",
    "c_points = scipy.integrate.odeint(rxn_d, c_init, t_points)\n",
    "\n",
    "plt.plot(t_points, c_points)\n",
    "plt.xlabel('$t$')\n",
    "plt.ylabel('$C(t)$')\n",
    "plt.show()"
   ]
  },
  {
   "cell_type": "markdown",
   "metadata": {
    "slideshow": {
     "slide_type": "subslide"
    }
   },
   "source": [
    "Let's solve the spring-mass system"
   ]
  },
  {
   "cell_type": "code",
   "execution_count": 6,
   "metadata": {
    "slideshow": {
     "slide_type": "fragment"
    }
   },
   "outputs": [
    {
     "data": {
      "image/png": "[encoded data removed]",
      "text/plain": [
       "<matplotlib.figure.Figure at 0x7fbad889ce80>"
      ]
     },
     "metadata": {},
     "output_type": "display_data"
    }
   ],
   "source": [
    "#This is just pasted from above\n",
    "def ideal_spring(x,t,k=1):\n",
    "    #This will get x as a vector!\n",
    "    return np.array([x[1], x[0] * -k])\n",
    "\n",
    "x_init = [1.0, 0] #The position is at 1.0 and has no velocity\n",
    "t_points = np.linspace(0,10, 250)\n",
    "\n",
    "x_points = scipy.integrate.odeint(ideal_spring, x_init, t_points)\n",
    "\n",
    "plt.plot(t_points, x_points[:,0]) #Only plot x[0], the actual x-position\n",
    "plt.xlabel('$t$')\n",
    "plt.ylabel('$x(t)$')\n",
    "plt.show()"
   ]
  },
  {
   "cell_type": "markdown",
   "metadata": {
    "slideshow": {
     "slide_type": "slide"
    }
   },
   "source": [
    "What about the dampened system?"
   ]
  },
  {
   "cell_type": "markdown",
   "metadata": {
    "slideshow": {
     "slide_type": "subslide"
    }
   },
   "source": [
    "$$\\frac{dx_1}{dt} = x_2 $$\n",
    "\n",
    "\n",
    "$$\\frac{dx_2}{dt} = -k x_1 - b x_2$$\n"
   ]
  },
  {
   "cell_type": "code",
   "execution_count": 7,
   "metadata": {
    "slideshow": {
     "slide_type": "subslide"
    }
   },
   "outputs": [
    {
     "data": {
      "image/png": "[encoded data removed]",
      "text/plain": [
       "<matplotlib.figure.Figure at 0x7fbad0f16c50>"
      ]
     },
     "metadata": {},
     "output_type": "display_data"
    }
   ],
   "source": [
    "#This is just pasted from above\n",
    "def damp_spring(x,t,k=1, b=0.1):\n",
    "    #This will get x as a vector!\n",
    "    return np.array([x[1], x[0] * -k - b * x[1]])\n",
    "\n",
    "x_init = [1.0, 0] #The position is at 1.0 and has no velocity\n",
    "t_points = np.linspace(0,100, 250)\n",
    "\n",
    "x_points = scipy.integrate.odeint(damp_spring, x_init, t_points)\n",
    "\n",
    "plt.plot(t_points, x_points[:,0]) #Only plot x[0], the actual x-position\n",
    "plt.xlabel('$t$')\n",
    "plt.ylabel('$x(t)$')\n",
    "plt.show()"
   ]
  },
  {
   "cell_type": "markdown",
   "metadata": {
    "slideshow": {
     "slide_type": "slide"
    }
   },
   "source": [
    "Since we're in python, we can do some programming to explore the parameter space. Let's do a for-loop to see the effect of different dampenings"
   ]
  },
  {
   "cell_type": "code",
   "execution_count": 9,
   "metadata": {
    "slideshow": {
     "slide_type": "subslide"
    }
   },
   "outputs": [
    {
     "data": {
      "image/png": "[encoded data removed]",
      "text/plain": [
       "<matplotlib.figure.Figure at 0x7fbad0cbd630>"
      ]
     },
     "metadata": {},
     "output_type": "display_data"
    }
   ],
   "source": [
    "x_init = [1.0, 0] #The position is at 1.0 and has no velocity\n",
    "t_points = np.linspace(0,20, 250)\n",
    "\n",
    "for bi in np.linspace(0.001, 1.0, 5):\n",
    "    x_points = scipy.integrate.odeint(lambda x,t: damp_spring(x,t,k=1.0, b=bi), x_init, t_points)\n",
    "    plt.plot(t_points, x_points[:,0], label='$b_i = {}$'.format(bi)) #Only plot x[0], the actual x-position\n",
    "\n",
    "plt.xlabel('$t$')\n",
    "plt.ylabel('$x(t)$')\n",
    "plt.ylim(-3, 8) #this is to leave enough room for a legend\n",
    "plt.legend()\n",
    "plt.show()"
   ]
  },
  {
   "cell_type": "markdown",
   "metadata": {
    "slideshow": {
     "slide_type": "slide"
    }
   },
   "source": [
    "Integration Method\n",
    "===\n",
    "\n",
    "We're using the [lsoda](http://people.sc.fsu.edu/~jburkardt/f77_src/odepack/odepack.html) solver when we call `odeint`. You can choose between many more by using the more complex `ode` interface in `scipy`. We won't cover this in lecture, but this allows you to explore other types of solution methods including the famous runge-kutta method and methods for complex numbers"
   ]
  }
 ],
 "metadata": {
  "celltoolbar": "Slideshow",
  "kernelspec": {
   "display_name": "Python 3",
   "language": "python",
   "name": "python3"
  },
  "language_info": {
   "codemirror_mode": {
    "name": "ipython",
    "version": 3
   },
   "file_extension": ".py",
   "mimetype": "text/x-python",
   "name": "python",
   "nbconvert_exporter": "python",
   "pygments_lexer": "ipython3",
   "version": "3.7.3"
  }
 },
 "nbformat": 4,
 "nbformat_minor": 1
}
