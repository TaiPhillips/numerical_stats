{
 "cells": [
  {
   "cell_type": "markdown",
   "metadata": {},
   "source": [
    "Homework 3\n",
    "====\n",
    "####CHE 116: Numerical Methods and Statistics\n",
    "Prof. Andrew White\n",
    "\n",
    "Version 1.6 (2/3/2015)\n",
    "\n",
    "----"
   ]
  },
  {
   "cell_type": "markdown",
   "metadata": {},
   "source": [
    "1. Identifying Distributions (5 Points)\n",
    "====\n",
    "\n",
    "List if a distribution is continuous or discrete, its support, and an example of a random variable which follows the distribution. 1 Bonus point per problem for identifying a rv related to chemical engineering.\n",
    "\n",
    "1. Geometric distribution\n",
    "2. Poisson Distribution\n",
    "3. Binomial Distribution\n",
    "4. Exponential Distribution\n",
    "5. Bernoulli Distribution"
   ]
  },
  {
   "cell_type": "markdown",
   "metadata": {},
   "source": [
    "####Answers\n",
    "1.1 Discrete, $[1,\\infty)$, the number of collisions until two molecules react"
   ]
  },
  {
   "cell_type": "markdown",
   "metadata": {},
   "source": [
    "2. Slicing Lists (6 Points)\n",
    "====\n",
    "Using this sentence: \"The quick brown fox jumps over the lazy dog\", Create slices of the string to answer the following questions. Note that character/element mean the same thing, so that every element in the sentence is a character. **Answer in Python**\n",
    "\n",
    "1. What is the first characeter?\n",
    "2. What is the sentence without the last characeter?\n",
    "5. What are the first 5 characeters?\n",
    "3. What is the first half of the sentence?\n",
    "4. What is the second half?\n",
    "6. What is every 3rd character, starting from the 4th?"
   ]
  },
  {
   "cell_type": "markdown",
   "metadata": {},
   "source": [
    "####Answers"
   ]
  },
  {
   "cell_type": "code",
   "execution_count": 2,
   "metadata": {},
   "outputs": [
    {
     "name": "stdout",
     "output_type": "stream",
     "text": [
      "T\n"
     ]
    }
   ],
   "source": [
    "#2.1\n",
    "string = 'The quick brown fox jumps over the lazy dog'\n",
    "print string[0]"
   ]
  },
  {
   "cell_type": "markdown",
   "metadata": {},
   "source": [
    "3. Numpy Arrays and Arithmetic (12 Points)\n",
    "====\n",
    "\n",
    "1. Create a numpy array containing a set of points between 0 and 30 spaced apart by 0.02. This should be done with a numpy function.\n",
    "2. Using a `for` loop, sum all the elements in the array and print the sum. Check your answer using the numpy `sum` function.\n",
    "3. Using the array from question 3.1, create an array representing a $\\lambda = 3$ exponential distribution on the interval $[0,30)$. *Note: the word `lambda` is a reserved word in python, meaning you cannot use it for a variable name. You can tell if a variable is reserved because it is a different color/font than other variables in ipython. Also, when applying mathematical functions to numpy arrays, you must use the numpy versions, for example `numpy.cos` instead of `math.cos`*\n",
    "4. Using a `for` loop and the array from Question 3.1, compute the expected value of the exponential distribution. To evaluate the integral, use $\\int f(x)dx = \\sum_i f(x_i) \\Delta x$, where $\\Delta x$ is the spacing between your points and $f(x_i)$ is the function evaluated at point $x_i$. As you know, it should be $1/3$.\n",
    "5. Using both the arrays from Question 3.1 and 3.3 and the `sum` function from numpy, compute the expected value without a `for` loop. \n",
    "6. Using your equation from HW 2, problem 5 (see key), compute the expected value and variance of the sum of two dice"
   ]
  },
  {
   "cell_type": "markdown",
   "metadata": {},
   "source": [
    "4. Plotting (4 Points)\n",
    "====\n",
    "\n",
    "1. Create a numpy array of points and evaluate the exponential distribution on it. Plot it from $0$ to $2\\lambda$.\n",
    "2. Do the same for the geometric distribution. Think carefully about whether it should be a line or a point plot and what the sample space of the distribution is.\n",
    "3. Plot the binomial distribution with $N=10$, $p=0.25$. To get a binomial coefficient for arrays, call `from scipy.special import comb` and use the `comb(N, n)` function, where `n` is your array. \n",
    "4. Plot the binomial distribution with $N=150$, $p=0.5$. "
   ]
  },
  {
   "cell_type": "code",
   "execution_count": null,
   "metadata": {},
   "outputs": [],
   "source": []
  }
 ],
 "metadata": {
  "kernelspec": {
   "display_name": "Python 3",
   "language": "python",
   "name": "python3"
  },
  "language_info": {
   "codemirror_mode": {
    "name": "ipython",
    "version": 3
   },
   "file_extension": ".py",
   "mimetype": "text/x-python",
   "name": "python",
   "nbconvert_exporter": "python",
   "pygments_lexer": "ipython3",
   "version": "3.6.3"
  }
 },
 "nbformat": 4,
 "nbformat_minor": 1
}
