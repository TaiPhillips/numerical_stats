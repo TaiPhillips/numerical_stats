{
 "metadata": {
  "name": "",
  "signature": "sha256:465ecc2e87e3f6db727887b5b69999dabb911fd9adafd301943225d632c0c4ec"
 },
 "nbformat": 3,
 "nbformat_minor": 0,
 "worksheets": [
  {
   "cells": [
    {
     "cell_type": "markdown",
     "metadata": {},
     "source": [
      "1. Identifying Distributions (5 Points)\n",
      "====\n",
      "\n",
      "List if a distribution is continuous or discrete, its support, and an example of a random variable which follows the distribution. 1 Bonus point per problem for identifying a rv related to chemical engineering.\n",
      "\n",
      "1. Geometric distribution\n",
      "2. Poisson Distribution\n",
      "3. Binomial Distribution\n",
      "4. Exponential Distribution\n",
      "5. Bernoulli Distribution"
     ]
    },
    {
     "cell_type": "markdown",
     "metadata": {},
     "source": [
      "####Answers\n",
      "1.1 Discrete, $[1,\\infty)$, the number of collisions until two molecules react\n",
      "\n",
      "1.2 Discrete, $[0, N]$ or $[0,\\infty]$, the number of accidents at a refinery\n",
      "\n",
      "1.3 Discrete, $[0, N]$, the number of failures of a metal at a certain temperature\n",
      "\n",
      "1.4 Continuous, $(0,\\infty)$, the amount of time between between incoming crude oil shipments\n",
      "\n",
      "1.5 Discrete, $\\{0,1\\}$, the open/close state of a valve"
     ]
    },
    {
     "cell_type": "markdown",
     "metadata": {},
     "source": [
      "2. Slicing Lists (6 Points)\n",
      "====\n",
      "Using this sentence: \"The quick brown fox jumps over the lazy dog\", Create slices of the array to answer the following questions. **Answer in Python**\n",
      "\n",
      "1. What is the first element?\n",
      "2. What is the sentence without the last element?\n",
      "5. What are the first 5 characeters?\n",
      "3. What is the first half of the sentence?\n",
      "4. What is the second half?\n",
      "6. What is every 3rd character, starting from the 4th?"
     ]
    },
    {
     "cell_type": "markdown",
     "metadata": {},
     "source": [
      "####2.1 Answer"
     ]
    },
    {
     "cell_type": "code",
     "collapsed": false,
     "input": [
      "string='The quick brown fox jumps over the lazy dog'\n",
      "print 'The first element is \"{}\"' .format(string[0])"
     ],
     "language": "python",
     "metadata": {},
     "outputs": [
      {
       "output_type": "stream",
       "stream": "stdout",
       "text": [
        "The first element is \"T\"\n"
       ]
      }
     ],
     "prompt_number": 2
    },
    {
     "cell_type": "markdown",
     "metadata": {},
     "source": [
      "####2.2 Answer"
     ]
    },
    {
     "cell_type": "code",
     "collapsed": false,
     "input": [
      "print 'The sentence without the the last element is: ', string[:-1]"
     ],
     "language": "python",
     "metadata": {},
     "outputs": [
      {
       "output_type": "stream",
       "stream": "stdout",
       "text": [
        "The sentence without the the last element is:  The quick brown fox jumps over the lazy do\n"
       ]
      }
     ],
     "prompt_number": 3
    },
    {
     "cell_type": "markdown",
     "metadata": {},
     "source": [
      "####2.3 Answer"
     ]
    },
    {
     "cell_type": "code",
     "collapsed": false,
     "input": [
      "print string[0:5]"
     ],
     "language": "python",
     "metadata": {},
     "outputs": [
      {
       "output_type": "stream",
       "stream": "stdout",
       "text": [
        "The q\n"
       ]
      }
     ],
     "prompt_number": 4
    },
    {
     "cell_type": "markdown",
     "metadata": {},
     "source": [
      "####2.4 Answer"
     ]
    },
    {
     "cell_type": "code",
     "collapsed": false,
     "input": [
      "s=len(string)\n",
      "print s\n",
      "print '{:s}'.format(string[0:(s/2)])\n",
      "k=len(string[0:((s)/2)])\n",
      "print k"
     ],
     "language": "python",
     "metadata": {},
     "outputs": [
      {
       "output_type": "stream",
       "stream": "stdout",
       "text": [
        "43\n",
        "The quick brown fox j\n",
        "21\n"
       ]
      }
     ],
     "prompt_number": 5
    },
    {
     "cell_type": "markdown",
     "metadata": {},
     "source": [
      "####2.5 Anwser"
     ]
    },
    {
     "cell_type": "code",
     "collapsed": false,
     "input": [
      "s=len(string)\n",
      "print s\n",
      "print string[((s)/2):]\n",
      "l=len(string[((s)/2):])\n",
      "print  l"
     ],
     "language": "python",
     "metadata": {},
     "outputs": [
      {
       "output_type": "stream",
       "stream": "stdout",
       "text": [
        "43\n",
        "umps over the lazy dog\n",
        "22\n"
       ]
      }
     ],
     "prompt_number": 6
    },
    {
     "cell_type": "markdown",
     "metadata": {},
     "source": [
      "####2.6 Answer\n"
     ]
    },
    {
     "cell_type": "code",
     "collapsed": false,
     "input": [
      "print string[3::3]"
     ],
     "language": "python",
     "metadata": {},
     "outputs": [
      {
       "output_type": "stream",
       "stream": "stdout",
       "text": [
        " i o xusv ea g\n"
       ]
      }
     ],
     "prompt_number": 4
    },
    {
     "cell_type": "markdown",
     "metadata": {},
     "source": [
      "3. Numpy Arrays and Arithmetic (12 Points)\n",
      "====\n",
      "\n",
      "1. Create a numpy array containing a set of points between 0 and 30 spaced apart by 0.02. This should be done with a numpy function.\n",
      "2. Using a `for` loop, sum all the elements in the array and print the sum. Check your answer using the numpy `sum` function.\n",
      "3. Using the array from question 3.1, create an array representing a $\\lambda = 3$ exponential distribution on the interval $[0,30)$. A factorial function which works on arrays can be imported by calling `from scipy.special import factorial`. *Note: the word `lambda` is a reserved word in python, meaning you cannot use it for a variable name. You can tell if a variable is reserved because it is a different color/font than other variables in ipython. Also, when applying mathematical functions to numpy arrays, you must use the numpy versions, for example `numpy.cos` instead of `math.cos`*\n",
      "4. Using a `for` loop and the array from Question 3.3, compute the expected value of the exponential distribution. To evaluate the integral, use $\\int f(x)dx = \\sum_i f(x_i) \\Delta x$, where $\\Delta x$ is the spacing between your points and $f(x_i)$ is the function evaluated at point $x_i$. As you know, it should be $1/3$.\n",
      "5. Using both the arrays from Question 3.1 and 3.3 and the `sum` function from numpy, compute the expected value without a `for` loop. \n",
      "6. Using your equation from HW 2, problem 5 (see key), compute the expected value and variance of the sum of two dice"
     ]
    },
    {
     "cell_type": "markdown",
     "metadata": {},
     "source": [
      "####3.1 Answer"
     ]
    },
    {
     "cell_type": "code",
     "collapsed": false,
     "input": [
      "import numpy as np\n",
      "x = np.arange(0,30, 0.02)\n",
      "print x"
     ],
     "language": "python",
     "metadata": {},
     "outputs": [
      {
       "output_type": "stream",
       "stream": "stdout",
       "text": [
        "[  0.00000000e+00   2.00000000e-02   4.00000000e-02 ...,   2.99400000e+01\n",
        "   2.99600000e+01   2.99800000e+01]\n"
       ]
      }
     ],
     "prompt_number": 8
    },
    {
     "cell_type": "markdown",
     "metadata": {},
     "source": [
      "####3.2 Answer"
     ]
    },
    {
     "cell_type": "code",
     "collapsed": false,
     "input": [
      "xsum = 0\n",
      "for element in x:\n",
      "    xsum += element\n",
      "print xsum, np.sum(x)"
     ],
     "language": "python",
     "metadata": {},
     "outputs": [
      {
       "output_type": "stream",
       "stream": "stdout",
       "text": [
        "22485.0 22485.0\n"
       ]
      }
     ],
     "prompt_number": 9
    },
    {
     "cell_type": "markdown",
     "metadata": {},
     "source": [
      "####3.3 Answer"
     ]
    },
    {
     "cell_type": "code",
     "collapsed": false,
     "input": [
      "from scipy.special import factorial\n",
      "lamb = 3.0\n",
      "y = np.exp(-lamb * x) * lamb\n",
      "print y"
     ],
     "language": "python",
     "metadata": {},
     "outputs": [
      {
       "output_type": "stream",
       "stream": "stdout",
       "text": [
        "[  3.00000000e+00   2.82529360e+00   2.66076131e+00 ...,   2.94300426e-39\n",
        "   2.77161703e-39   2.61021062e-39]\n"
       ]
      }
     ],
     "prompt_number": 10
    },
    {
     "cell_type": "markdown",
     "metadata": {},
     "source": [
      "####3.4 Answer\n",
      "$$E[x] = \\int_0^{30} \\underbrace{x P(x)}_{f(x_i)} \\,dx$$\n",
      "$$P(x) = \\lambda e^{-\\lambda x}$$\n",
      "$$E[x] \\approx \\sum_i^N \\lambda e^{-\\lambda x_i} x_i \\Delta x$$"
     ]
    },
    {
     "cell_type": "code",
     "collapsed": false,
     "input": [
      "expected_value = 0\n",
      "for element in x:\n",
      "    expected_value += element * np.exp(-lamb * element) * lamb * 0.02\n",
      "print expected_value, 1 / 3."
     ],
     "language": "python",
     "metadata": {},
     "outputs": [
      {
       "output_type": "stream",
       "stream": "stdout",
       "text": [
        "0.333233351331 0.333333333333\n"
       ]
      }
     ],
     "prompt_number": 11
    },
    {
     "cell_type": "markdown",
     "metadata": {},
     "source": [
      "####3.5 Answer"
     ]
    },
    {
     "cell_type": "code",
     "collapsed": false,
     "input": [
      "expected_value = np.sum(x * y * 0.02)\n",
      "print expected_value, 1. / 3"
     ],
     "language": "python",
     "metadata": {},
     "outputs": [
      {
       "output_type": "stream",
       "stream": "stdout",
       "text": [
        "0.333233351331 0.333333333333\n"
       ]
      }
     ],
     "prompt_number": 12
    },
    {
     "cell_type": "markdown",
     "metadata": {},
     "source": [
      "####3.6 Answer"
     ]
    },
    {
     "cell_type": "code",
     "collapsed": false,
     "input": [
      "#create the sample space\n",
      "Q = np.arange(2,13)\n",
      "#probability of a roll\n",
      "P_n = (6. - abs(Q - 7)) / 36\n",
      "#sum of n * P_n to get E[n]\n",
      "expected_value = np.sum(Q * P_n)\n",
      "#sum of n^2 * P_n to get E[n^2]\n",
      "expected_value_2 = np.sum(Q**2 * P_n)\n",
      "#variance via E[n^2] - E[n]^2\n",
      "variance = expected_value_2 - expected_value ** 2\n",
      "print 'E[x] = {}, Var(x) = {}'.format(expected_value, variance)"
     ],
     "language": "python",
     "metadata": {},
     "outputs": [
      {
       "output_type": "stream",
       "stream": "stdout",
       "text": [
        "E[x] = 7.0, Var(x) = 5.83333333333\n"
       ]
      }
     ],
     "prompt_number": 16
    },
    {
     "cell_type": "markdown",
     "metadata": {},
     "source": [
      "4. Plotting (4 Points)\n",
      "====\n",
      "\n",
      "1. Create a numpy array of points and evaluate the exponential distribution on it. Make sure your inteval is within the support of the distribution. Plot the distribution\n",
      "2. Do the same for the geometric distribution. Think carefully about whether it should be a line or a point plot and what the sample space of the distribution is.\n",
      "3. Plot the binomial distribution with $N=10$, $p=0.25$.\n",
      "4. Plot the binomial distribution with $N=150$, $p=0.5$. "
     ]
    },
    {
     "cell_type": "markdown",
     "metadata": {},
     "source": [
      "####4.1 Answer"
     ]
    },
    {
     "cell_type": "code",
     "collapsed": false,
     "input": [
      "%matplotlib inline\n",
      "import matplotlib.pyplot as plt\n",
      "import seaborn\n",
      "seaborn.set_context(\"talk\")\n",
      "x = np.linspace(0, 4, 250)\n",
      "y = 2.0 * np.exp(-2.0 * x)\n",
      "plt.plot(x,y)\n",
      "plt.show()"
     ],
     "language": "python",
     "metadata": {},
     "outputs": [
      {
       "metadata": {},
       "output_type": "display_data",
       "png": "[encoded data removed]",
       "text": [
        "<matplotlib.figure.Figure at 0x7f4b052777d0>"
       ]
      }
     ],
     "prompt_number": 9
    },
    {
     "cell_type": "markdown",
     "metadata": {},
     "source": [
      "####4.2 Answer"
     ]
    },
    {
     "cell_type": "code",
     "collapsed": false,
     "input": [
      "n=np.arange(1, 9)\n",
      "p=0.4\n",
      "pgeo=(1-p)**(n-1)*p\n",
      "plt.plot(n, pgeo, 'yo-')\n",
      "plt.show()"
     ],
     "language": "python",
     "metadata": {},
     "outputs": [
      {
       "metadata": {},
       "output_type": "display_data",
       "png": "[encoded data removed]",
       "text": [
        "<matplotlib.figure.Figure at 0x7f4b05297910>"
       ]
      }
     ],
     "prompt_number": 10
    },
    {
     "cell_type": "markdown",
     "metadata": {},
     "source": [
      "4.3 Plot the binomial distribution with $N=10$, $p=0.25$."
     ]
    },
    {
     "cell_type": "code",
     "collapsed": false,
     "input": [
      "from scipy.special import comb\n",
      "p = 0.25\n",
      "N = 10\n",
      "h=np.arange(N+1)\n",
      "L=comb(N, h)\n",
      "pbi=L*p**h*(1-p)**(N-h)\n",
      "plt.plot(h, pbi, 'ro-')\n",
      "plt.show()"
     ],
     "language": "python",
     "metadata": {},
     "outputs": [
      {
       "metadata": {},
       "output_type": "display_data",
       "png": "[encoded data removed]",
       "text": [
        "<matplotlib.figure.Figure at 0x7f4adae27310>"
       ]
      }
     ],
     "prompt_number": 11
    },
    {
     "cell_type": "code",
     "collapsed": false,
     "input": [
      "N = 150\n",
      "p = 0.5\n",
      "h=np.arange(N+1)\n",
      "L=comb(N, h)\n",
      "pbi=L*p**h*(1-p)**(N-h)\n",
      "plt.plot(h, pbi, 'go-')\n",
      "plt.show()"
     ],
     "language": "python",
     "metadata": {},
     "outputs": [
      {
       "metadata": {},
       "output_type": "display_data",
       "png": "[encoded data removed]",
       "text": [
        "<matplotlib.figure.Figure at 0x7f4adae51910>"
       ]
      }
     ],
     "prompt_number": 15
    },
    {
     "cell_type": "code",
     "collapsed": false,
     "input": [],
     "language": "python",
     "metadata": {},
     "outputs": []
    }
   ],
   "metadata": {}
  }
 ]
}