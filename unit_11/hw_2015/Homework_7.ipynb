{
 "metadata": {
  "name": "",
  "signature": "sha256:beb01fd86b32c4e4fde290c33ebc8608f29c36caa50f0a70376c174f556e8af0"
 },
 "nbformat": 3,
 "nbformat_minor": 0,
 "worksheets": [
  {
   "cells": [
    {
     "cell_type": "markdown",
     "metadata": {},
     "source": [
      "Homework 7\n",
      "====\n",
      "####CHE 116: Numerical Methods and Statistics\n",
      "Prof. Andrew White\n",
      "\n",
      "Version 1.1 (3/6/2015)\n",
      "\n",
      "----"
     ]
    },
    {
     "cell_type": "markdown",
     "metadata": {},
     "source": [
      "0. Warmup (1 Point)\n",
      "====\n",
      "\n",
      "We saw many optimization algorithms. Collect all the cells which gave a summary of the different techniques and paste them into your homework below. An example is given below:\n",
      "\n",
      "Newton's Method\n",
      "====\n",
      "\n",
      "**Type:** Root Finding\n",
      "\n",
      "**Discrete/Continuous:** Continuous\n",
      "\n",
      "**Dimensions:** 1\n",
      "\n",
      "**Derivative:** optional\n",
      "\n",
      "**Convex:** yes\n",
      "\n",
      "**Python:** `newton`"
     ]
    },
    {
     "cell_type": "markdown",
     "metadata": {},
     "source": [
      "1. Exercises (5 Points)\n",
      "====\n",
      "1. Minimize the following expression $$\\frac{(x - 4)^2}{2} + \\frac{(x - 2)^2}{4}$$ \n",
      "2. Minimize the following expression: $$4 \\left[ r^{-12} - r^{-6}\\right]$$\n",
      "3. Solve the following system of equations:\n",
      "$$ 3 x^2 - 2 y^2 = 4$$\n",
      "$$ x ^ 3 - 4 y = -2$$\n",
      "4. $\\xi$ is a fraction between 0 and 1. Maximize the following expression\n",
      "$$ -\\xi \\ln \\xi$$"
     ]
    },
    {
     "cell_type": "markdown",
     "metadata": {},
     "source": [
      "2. Box Folding (5 Points)\n",
      "==="
     ]
    },
    {
     "cell_type": "markdown",
     "metadata": {},
     "source": [
      "Your primary grade teacher gives you a piece of cardboard that has dimensions: 4 cm by 3 cm. You are supposed to cut the corners as shown below and fold up the corners to make an open box. Determine the height of the box that gives a maximum volume. See the picture below of the box"
     ]
    },
    {
     "cell_type": "code",
     "collapsed": false,
     "input": [
      "from IPython.display import Image\n",
      "Image(url=\"data:image/png;base64,iVBORw0KGgoAAAANSUhEUgAAAQIAAADDCAMAAABeUu/HAAAAA3NCSVQICAjb4U/gAAAAflBMVEX/\\\n",
      "//9sbGylpaXW1tbZ2dmhoaEAAAD5+fn19fXk5OT8/PzQ0NDy8vLc3NzKysrs7Oy0tLS9vb2KiorF\\\n",
      "xcW4uLg9PT14eHiZmZmurq5UVFQ2NjYiIiJxcXEpKSlZWVmSkpJ/f39kZGQwMDAcHBxYWFhISEhL\\\n",
      "S0t8fHxBQUETExNOLLFOAAAACXBIWXMAAA+IAAAPiAEWyKWGAAAF80lEQVR4nO2di3ajKhSG/0SD\\\n",
      "4o0Y02jubabttO//ggd6mZ5LdTwwIOr+V1aWWUZLv2xgw4YtQCJ5qOT+aegiDK2QzR1Bsru+DF2G\\\n",
      "gbXY1ndDl2FYBQzXmSO4r2aP4CWaO4L9Ig93hzAauhwDas/elA9djgEVRRE2864ISjNvC5Tq/dAl\\\n",
      "IJFIJBKJRCKRSCRSp6Jg0uozOxNelhNWc+iDYGlqR17r1OM74Urv3pXbOVCuOd+46PEdXQQ80btO\\\n",
      "U1mmd51NBCORTQSrWO86TaWF3nVkBYSAKgLICmAXgWYnpatI0w2xiWDt1jXKA73rqCJYRRC4tQLB\\\n",
      "9a6zisCtgyyE3nVUEawiaNxWhNDD5tCtZ+RlpzgSkYNMVkAIYBfB8qMiVIU00bJK9e7SpbyqMgRV\\\n",
      "+eaABJp/wIUV1KwCNiw0u8t34myRyLed0U2cTJ9ezzHsrCfNWInF9ePYQ++w+Oyoc7ZsNP2W3yhZ\\\n",
      "MFF/HHMPxwhf4vLHsqR9n0hIp2wi+AqlrB7PdqwA/Hz6ZOBjKEV8tgXNAQ922oKYFSn7bAs8DqUk\\\n",
      "e8nisjG7yfday4agOpjN0LlwkJ+YtNUDq7u/raMte+VYsh9vNY4cZG0RAhopkhVgWqEUTaOziWBL\\\n",
      "oZSRyCaC1PFaIw+HSSGFUkaiCYVSfJw4c7z1OtGsd1QRyEEmK4BdBG77RG25CKU4ko89wkhkE0Hu\\\n",
      "eCW6h95hQWOEkcgmgtLxfIFm3NZJKMWNYo9DKZ6rJ4IyxxXYIF4pP7QR8lC++BpViDqRh1GNoMKa\\\n",
      "v58QDYqUHOTRiBBMCUFaRAIiRi47ByRcuUo8ev8UyxPZdycijvixx71HgkB2QQECgVJ2x4gK5SoV\\\n",
      "8funLEAoUKnDpFILEdLs40QK3ifLaCuChEu2kXobs4w27GYvLIU42FhL5lBmbUFyWCJkmsMTX2TY\\\n",
      "HNYsX2mOTryRaY9wfRq5DZgj2Oyfx56m1BDB9Qls7PkZzRBEzyqDue+NQRzmAlketvTdRgiyO1ap\\\n",
      "TtHSsso/JVlCDn48tvxURggSoVwjIRxvQvr/Yg2qY9vJCY0ROrRhom51YeeBQHZc7U78TBAsHi6t\\\n",
      "s3jzQPBwilnrmHgWCMRFPXahzY2dAwL+ygqJoG07wBwQJCrVvHxraQ3mgOA3Wqhcfsfu6bPpI9jd\\\n",
      "1+yxa+5r8ghUKr+w082fPII8BaofXRMfk0cARaBzoDMDBPzSvet3BgjUTq8uBrNAgIZ1fGceCNaz\\\n",
      "RpCopnDVta168ghSVqGZd6cYLdil6oyHTB7B70UICAEhACEAIcD4EYjVMkC+bFsIMQcEyekcI757\\\n",
      "aFkFMAcEAFugubSdnAeCLeMbO9EkwdgaOVMpzDxXw9onhcysQNwK8FcLKez+sKLb6mgrsrxjeeO/\\\n",
      "DeC8xY/W6QDTtuC0898GUOzVUpO2n8oUQcOsZK36o8oPhxLF3a0lUGCIYH1MDBMuDi9DBPuoe9px\\\n",
      "DDJCEKn8dfHe+1V33TJDUBU5RFXMGME0RAj6IhARpLVzJELtiPz8FAlk8fuhfP3nhOOtmlmm/mLP\\\n",
      "gv3tRE8EqcBWdoGy9qudPVUmD+UrKxBwlIk8TErwAMXXiZAP8Bi5z4KJ9B8FC/9VsDJSn7ZqL5P8\\\n",
      "x6gi0Ob9aT1M0MMUDiMRpXMhKyAEoARfICsAPTcJk0r56OPTs0YiepIePU+RKgLo2aqYVlp4DzvF\\\n",
      "kYgcZLICQgCqCCArwLSmTz3Meuk+lKIlFxVhf/uJ5Pls4QFi69sTx+p2Z8TahRXEL1tg96B3k27V\\\n",
      "lwTBx/oGH63gV1tQszJqXfxppIw94+FjkOxjW/ClzclCLXhTeGxMF3i48QsiZvz4zzZdfiXo8Nov\\\n",
      "EKx4blsHbqj7S2q61MkJgusalZ0sYNke2YthQ+uiIpQqM2jNLEwfxOd7ZWPv5fO5IqyWDZJ6uTW7\\\n",
      "y3cqViuBcll76xdQKMX13CGFUrQ1pVCKh3EEQjAWUXNInSJVBNAMMsgKQAhAFQFkBaBQCiiUAqoI\\\n",
      "ICsAtQXoiWCpd++RqE+IIz+cFtPV6fYXvytASAA4qaEAAAAASUVORK5CYII=\")"
     ],
     "language": "python",
     "metadata": {},
     "outputs": [
      {
       "html": [
        "<img src=\"data:image/png;base64,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\"/>"
       ],
       "metadata": {},
       "output_type": "pyout",
       "prompt_number": 1,
       "text": [
        "<IPython.core.display.Image at 0x7f690c054490>"
       ]
      }
     ],
     "prompt_number": 1
    },
    {
     "cell_type": "markdown",
     "metadata": {},
     "source": [
      "3. Fitting a Line (3 Points)\n",
      "====\n",
      "Find a best fit line to the data below and plot the data along with the best fit line."
     ]
    },
    {
     "cell_type": "code",
     "collapsed": false,
     "input": [
      "data_3_x = [0.0, 0.1,  0.2,  0.3,  0.4,  0.5,  0.6,  0.7,  0.8,  0.9,  1.0,  1.1,  1.2,  1.3,  1.4,  1.5,  1.6,  1.7,  1.8,  1.9,  2.0,  2.1,  2.2,  2.3,  2.4,  2.5,  2.6,  2.7,  2.8,  2.9,  3.0,  3.1,  3.2,  3.3,  3.4,  3.5,  3.6,  3.7,  3.8,  3.9,  4.0,  4.1,  4.2,  4.3,  4.4,  4.5,  4.6,  4.7,  4.8,  4.9,  5.0,  5.1,  5.2,  5.3,  5.4,  5.5,  5.6,  5.7,  5.8,  5.9,  6.0,  6.1,  6.2,  6.3,  6.4,  6.5,  6.6,  6.7,  6.8,  6.9,  7.0,  7.1,  7.2,  7.3,  7.4,  7.5,  7.6,  7.7,  7.8,  7.9,  8.0,  8.1,  8.2,  8.3,  8.4,  8.5,  8.6,  8.7,  8.8,  8.9,  9.0,  9.1,  9.2,  9.3,  9.4,  9.5,  9.6,  9.7,  9.8,  9.9]\n",
      "data_3_y = [0.05, 0.45,  0.18,  -0.15,  -0.14,  -0.38,  -0.88,  -0.42,  -0.99,  -0.92,  -1.53,  -1.94,  -1.75,  -2.37,  -2.09,  -2.99,  -3.04,  -2.85,  -2.66,  -3.03,  -3.39,  -3.36,  -3.7,  -4.41,  -4.7,  -4.51,  -4.29,  -5.39,  -4.81,  -5.63,  -5.01,  -5.79,  -6.03,  -6.04,  -6.35,  -6.82,  -6.48,  -6.6,  -6.69,  -7.05,  -7.4,  -8.07,  -7.81,  -7.97,  -8.08,  -8.29,  -8.99,  -9.17,  -9.38,  -9.1,  -9.62,  -9.85,  -9.99,  -9.64,  -10.78,  -10.76,  -10.84,  -11.1,  -11.03,  -11.48,  -11.47,  -11.4,  -11.58,  -11.77,  -11.97,  -12.1,  -12.65,  -12.52,  -12.79,  -13.21,  -13.24,  -13.85,  -13.5,  -13.9,  -14.66,  -14.44,  -14.65,  -14.72,  -14.7,  -14.87,  -15.47,  -15.21,  -15.82,  -16.37,  -16.42,  -16.67,  -16.52,  -16.62,  -17.39,  -16.94,  -17.48,  -18.17,  -18.31,  -17.75,  -17.86,  -18.6,  -18.43,  -19.04,  -19.1,  -18.83]"
     ],
     "language": "python",
     "metadata": {},
     "outputs": [],
     "prompt_number": 9
    },
    {
     "cell_type": "markdown",
     "metadata": {},
     "source": [
      "4. Fitting a Binomial Distribution to Data (2 Points)\n",
      "====\n",
      "\n",
      "In the following cell there is a function which takes in data, a known trial number, and a proposed success probability. It then returns how well the binomial distribution fits the data. Complete the program so that it finds the optimal success probability"
     ]
    },
    {
     "cell_type": "code",
     "collapsed": false,
     "input": [
      "from scipy.special import comb\n",
      "import numpy as np\n",
      "\n",
      "bin_data = [4, 3,  6,  1,  2,  1,  1,  1,  3,  0,  4,  2,  4,  2,  2,  3,  2,  4,  4,  3]\n",
      "N = 20\n",
      "\n",
      "def bin_fit(p, data, N):\n",
      "    fit = 0\n",
      "    for di in data:\n",
      "        fit += np.log( comb(N, di) * (1 - p)**(N - di) * p**di )\n",
      "    return fit\n",
      "\n",
      "#Example of how to use\n",
      "print bin_fit(0.8, bin_data, N)"
     ],
     "language": "python",
     "metadata": {},
     "outputs": [
      {
       "output_type": "stream",
       "stream": "stdout",
       "text": [
        "-452.321017887\n"
       ]
      }
     ],
     "prompt_number": 1
    },
    {
     "cell_type": "markdown",
     "metadata": {},
     "source": [
      "5. Solution Reaction (5 Points)\n",
      "====\n",
      "\n",
      "The follow reaction occurs in water and is highly exothermic ($\\Delta$H = $863.9$ BTU / lb-mol):\n",
      "\n",
      "$$\\textrm{AB}\\rightarrow \\textrm{A}^+ + \\textrm{B}^-$$\n",
      "\n",
      "Its equilibrium constant has been shown to fit the following empirical relationship from 400 $^\\circ{}$ R to 800 $^\\circ{}$ R:\n",
      "\n",
      "$$ k = Ae^{\\frac{-B}{RT}} + C\\left(\\frac{B}{RT} - 0.5\\right)^2 $$\n",
      "where $A = 10^{1} $ lb-mol / gal, $B = 500$ BTU, $C = 10^{-3}$ lb-mol / gal, $T$ is temperature and $R$ is the universal gas constant.\n",
      "\n",
      "I add 1.5 lb-mol of AB to a 25.0 gal tank of water which is at 510.0 $^\\circ{}$R. Assume that the heat capacity of the tank is well-apprximated by that of water, 17.89 BTU / (lb-mol $^\\circ{}$ R) and that all reaction enthalpy goes to heating the solution. How much AB remains in lb-mol and what is the final temperature of the solution?"
     ]
    },
    {
     "cell_type": "markdown",
     "metadata": {},
     "source": [
      "6. 2D Minimization (5 Points)\n",
      "===\n",
      "\n",
      "Subject to the constraint that $x$ and $y$ have opposite signs, find the $x$ and $y$ that minimize the following expression:\n",
      "\n",
      "$$f(x,y) = \\cos(x + 1)\\sin y + (x + 2)^2$$\n",
      "\n",
      "where $x$ and $y$ are both between $-2\\pi$ and $2\\pi$. *Hint: The minimum function value is about -0.7*"
     ]
    },
    {
     "cell_type": "markdown",
     "metadata": {},
     "source": [
      "7. Sample Covariance (3 Points)\n",
      "===\n",
      "\n",
      "Use the data from Question 3. Compute its sample covariance and sample correlation using `numpy`. Compare its covariance and correlation with your answer from problem 3."
     ]
    },
    {
     "cell_type": "markdown",
     "metadata": {},
     "source": [
      "8. Functions of Distributions (1 Point)\n",
      "===\n",
      "\n",
      "The time between eruptions at a volcano is exponentially distributed with a rate of 1 eruption every 10 years. There is a nearby city. Each time the volcano erupts, everyone dies in the city except for 1 person. People gradually come back. If a volcano erupted at $t=0$, the population can be modeled by:\n",
      "$$N(t) = e^{0.9t}$$\n",
      "\n",
      "Write down $P(N)$ in markdown using equiations from Unit 8. You must only set-up the integral that finds $P(N)$. Do not evaluate the integral."
     ]
    },
    {
     "cell_type": "code",
     "collapsed": false,
     "input": [],
     "language": "python",
     "metadata": {},
     "outputs": []
    }
   ],
   "metadata": {}
  }
 ]
}