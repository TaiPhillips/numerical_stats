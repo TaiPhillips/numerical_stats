{
 "metadata": {
  "name": "",
  "signature": "sha256:1611ab69f6225e1ee6f464769eb577cf0f837a1bfaaf52bff1a0c84db02acd43"
 },
 "nbformat": 3,
 "nbformat_minor": 0,
 "worksheets": [
  {
   "cells": [
    {
     "cell_type": "markdown",
     "metadata": {},
     "source": [
      "Homework 7 Key\n",
      "====\n",
      "####CHE 116: Numerical Methods and Statistics\n",
      "Prof. Andrew White\n",
      "\n",
      "Version 1.1 (3/6/2015)\n",
      "\n",
      "----"
     ]
    },
    {
     "cell_type": "code",
     "collapsed": false,
     "input": [
      "%matplotlib inline\n",
      "import matplotlib.pyplot as plt\n",
      "from scipy.special import comb\n",
      "import numpy as np\n",
      "from scipy.optimize import *"
     ],
     "language": "python",
     "metadata": {},
     "outputs": [],
     "prompt_number": 2
    },
    {
     "cell_type": "markdown",
     "metadata": {},
     "source": [
      "1. Exercises (5 Points)\n",
      "===="
     ]
    },
    {
     "cell_type": "markdown",
     "metadata": {},
     "source": [
      "####1.1 Answer"
     ]
    },
    {
     "cell_type": "code",
     "collapsed": false,
     "input": [
      "import scipy.optimize\n",
      "def y(x):\n",
      "    return ((x-4)**2)/2+((x-2)**2)/4\n",
      "result = minimize(y, x0=0)\n",
      "print result.x"
     ],
     "language": "python",
     "metadata": {},
     "outputs": [
      {
       "output_type": "stream",
       "stream": "stdout",
       "text": [
        "[ 3.33333333]\n"
       ]
      }
     ],
     "prompt_number": 3
    },
    {
     "cell_type": "markdown",
     "metadata": {},
     "source": [
      "####1.2 Answer"
     ]
    },
    {
     "cell_type": "code",
     "collapsed": false,
     "input": [
      "from scipy.optimize import minimize\n",
      "result = minimize(lambda x: 4.0*(((x)**(-12.0))-((x)**(-6))), x0=1, bounds=[(0.01, 10)])\n",
      "print result.x"
     ],
     "language": "python",
     "metadata": {},
     "outputs": [
      {
       "output_type": "stream",
       "stream": "stdout",
       "text": [
        "[ 1.12246203]\n"
       ]
      }
     ],
     "prompt_number": 4
    },
    {
     "cell_type": "markdown",
     "metadata": {},
     "source": [
      "####1.3 Answer (Not graded)"
     ]
    },
    {
     "cell_type": "code",
     "collapsed": false,
     "input": [
      "from scipy.optimize import root\n",
      "\n",
      "def function(x):\n",
      "    ans = np.zeros(2)\n",
      "    ans[0] = 3 * x[0]**2.0 + 2.0 * x[1]**2 - 4.0\n",
      "    ans[1] = 2 * x[0] ** 3 - x[1] + 2.0\n",
      "    return ans\n",
      "result = root(function, x0=[0,9])\n",
      "\n",
      "print result"
     ],
     "language": "python",
     "metadata": {},
     "outputs": [
      {
       "output_type": "stream",
       "stream": "stdout",
       "text": [
        "  status: 1\n",
        " success: True\n",
        "     qtf: array([ -2.71572187e-09,   6.70328030e-10])\n",
        "    nfev: 25\n",
        "       r: array([ 11.43317756, -10.27793486,  -0.92679649])\n",
        "     fun: array([ -3.11750625e-13,   6.81232848e-13])\n",
        "       x: array([-0.7831945 ,  1.03918697])\n",
        " message: 'The solution converged.'\n",
        "    fjac: array([[-0.62214603,  0.78290122],\n",
        "       [-0.78290122, -0.62214603]])\n"
       ]
      }
     ],
     "prompt_number": 16
    },
    {
     "cell_type": "code",
     "collapsed": false,
     "input": [
      "result = scipy.optimize.minimize(lambda x:x*np.log(x), x0=0.5, bounds=[(0.01, 0.99)])\n",
      "print result.x"
     ],
     "language": "python",
     "metadata": {},
     "outputs": [
      {
       "output_type": "stream",
       "stream": "stdout",
       "text": [
        "[ 0.36787945]\n"
       ]
      }
     ],
     "prompt_number": 6
    },
    {
     "cell_type": "markdown",
     "metadata": {},
     "source": [
      "2. Box Folding (5 Points)\n",
      "===\n",
      "\n",
      "$V=(4-2x)\\times(3-2x)\\times x$\n",
      "\n",
      "So we minimize $-V$. Not we also must constrain $x$ to physically possible dimensions"
     ]
    },
    {
     "cell_type": "code",
     "collapsed": false,
     "input": [
      "from scipy.optimize import minimize\n",
      "\n",
      "result = minimize(lambda x:  -(4 - 2 * x) * (3 - 2 * x) * x, x0=1)\n",
      "print \"The height is :{} cm \".format( result.x)"
     ],
     "language": "python",
     "metadata": {},
     "outputs": [
      {
       "output_type": "stream",
       "stream": "stdout",
       "text": [
        "The height is :[ 0.56574152] cm \n"
       ]
      }
     ],
     "prompt_number": 7
    },
    {
     "cell_type": "code",
     "collapsed": false,
     "input": [
      "x = np.linspace(0,1.5,100)\n",
      "y = -(4 - 2 * x) * (3 - 2 * x) * x\n",
      "plt.plot(x,y)\n",
      "plt.vlines(result.x, -3.5,0)\n",
      "plt.show()"
     ],
     "language": "python",
     "metadata": {},
     "outputs": [
      {
       "metadata": {},
       "output_type": "display_data",
       "png": "[encoded data removed]",
       "text": [
        "<matplotlib.figure.Figure at 0x7f1cfadaaa90>"
       ]
      }
     ],
     "prompt_number": 8
    },
    {
     "cell_type": "markdown",
     "metadata": {},
     "source": [
      "3. Fitting a line (3 Points)\n",
      "====="
     ]
    },
    {
     "cell_type": "code",
     "collapsed": false,
     "input": [
      "data_3_x = [0.0, 0.1,  0.2,  0.3,  0.4,  0.5,  0.6,  0.7,  0.8,  0.9,  1.0,  1.1,  1.2,  1.3,  1.4,  1.5,  1.6,  1.7,  1.8,  1.9,  2.0,  2.1,  2.2,  2.3,  2.4,  2.5,  2.6,  2.7,  2.8,  2.9,  3.0,  3.1,  3.2,  3.3,  3.4,  3.5,  3.6,  3.7,  3.8,  3.9,  4.0,  4.1,  4.2,  4.3,  4.4,  4.5,  4.6,  4.7,  4.8,  4.9,  5.0,  5.1,  5.2,  5.3,  5.4,  5.5,  5.6,  5.7,  5.8,  5.9,  6.0,  6.1,  6.2,  6.3,  6.4,  6.5,  6.6,  6.7,  6.8,  6.9,  7.0,  7.1,  7.2,  7.3,  7.4,  7.5,  7.6,  7.7,  7.8,  7.9,  8.0,  8.1,  8.2,  8.3,  8.4,  8.5,  8.6,  8.7,  8.8,  8.9,  9.0,  9.1,  9.2,  9.3,  9.4,  9.5,  9.6,  9.7,  9.8,  9.9]\n",
      "data_3_y = [0.05, 0.45,  0.18,  -0.15,  -0.14,  -0.38,  -0.88,  -0.42,  -0.99,  -0.92,  -1.53,  -1.94,  -1.75,  -2.37,  -2.09,  -2.99,  -3.04,  -2.85,  -2.66,  -3.03,  -3.39,  -3.36,  -3.7,  -4.41,  -4.7,  -4.51,  -4.29,  -5.39,  -4.81,  -5.63,  -5.01,  -5.79,  -6.03,  -6.04,  -6.35,  -6.82,  -6.48,  -6.6,  -6.69,  -7.05,  -7.4,  -8.07,  -7.81,  -7.97,  -8.08,  -8.29,  -8.99,  -9.17,  -9.38,  -9.1,  -9.62,  -9.85,  -9.99,  -9.64,  -10.78,  -10.76,  -10.84,  -11.1,  -11.03,  -11.48,  -11.47,  -11.4,  -11.58,  -11.77,  -11.97,  -12.1,  -12.65,  -12.52,  -12.79,  -13.21,  -13.24,  -13.85,  -13.5,  -13.9,  -14.66,  -14.44,  -14.65,  -14.72,  -14.7,  -14.87,  -15.47,  -15.21,  -15.82,  -16.37,  -16.42,  -16.67,  -16.52,  -16.62,  -17.39,  -16.94,  -17.48,  -18.17,  -18.31,  -17.75,  -17.86,  -18.6,  -18.43,  -19.04,  -19.1,  -18.83]\n",
      "\n",
      "def model(slope):\n",
      "    yhat = slope * data_3_x\n",
      "\n",
      "    return yhat\n",
      "def obj_fxn(m):\n",
      "    yhat = model(m)\n",
      "    return np.sum( (data_3_y - yhat) ** 2)\n",
      "\n",
      "result = minimize(obj_fxn, x0=25)\n",
      "plt.plot(data_3_x, data_3_y)\n",
      "plt.plot(data_3_x, result.x*data_3_x, '--')\n",
      "plt.show()\n",
      "print 'The best fit line is :y={}*x' .format(result.x[0])"
     ],
     "language": "python",
     "metadata": {},
     "outputs": [
      {
       "metadata": {},
       "output_type": "display_data",
       "png": "[encoded data removed]",
       "text": [
        "<matplotlib.figure.Figure at 0x7f1cfa8a9850>"
       ]
      },
      {
       "output_type": "stream",
       "stream": "stdout",
       "text": [
        "The best fit line is :y=-1.91435389817*x\n"
       ]
      }
     ],
     "prompt_number": 9
    },
    {
     "cell_type": "markdown",
     "metadata": {},
     "source": [
      "4. Fitting a Binomial Distribution to Data (2 Points)\n",
      "==="
     ]
    },
    {
     "cell_type": "code",
     "collapsed": false,
     "input": [
      "from scipy.special import comb\n",
      "\n",
      "bin_data = [4, 3,  6,  1,  2,  1,  1,  1,  3,  0,  4,  2,  4,  2,  2,  3,  2,  4,  4,  3]\n",
      "N = 20\n",
      "\n",
      "def bin_fit(p, data, N):\n",
      "    fit = 0\n",
      "    for di in data:\n",
      "        fit += np.log( comb(N, di) * (1 - p)**(N - di) * p**di )\n",
      "    return fit\n",
      "\n",
      "#Example of how to use\n",
      "print bin_fit(0.8, bin_data, N)"
     ],
     "language": "python",
     "metadata": {},
     "outputs": [
      {
       "output_type": "stream",
       "stream": "stdout",
       "text": [
        "-452.321017887\n"
       ]
      }
     ],
     "prompt_number": 14
    },
    {
     "cell_type": "code",
     "collapsed": false,
     "input": [
      "def bin_fit(p, data, N):\n",
      "    fit = 0\n",
      "    for di in data:\n",
      "        fit += np.log( comb(N, di) * (1 - p)**(N - di) * p**di )\n",
      "    return fit\n",
      "\n",
      "result = minimize(lambda x: -bin_fit(x, bin_data, N), x0=0.1, bounds=[(0.01,0.5)])\n",
      "\n",
      "print result.x\n",
      "x = np.linspace(0.1, 0.3, 100)\n",
      "bin_fit_np = np.frompyfunc(lambda x: bin_fit(x, bin_data, N), 1, 1)\n",
      "plt.vlines(result.x, -70, -35)\n",
      "plt.plot(x, bin_fit_np(x))\n",
      "plt.show()"
     ],
     "language": "python",
     "metadata": {},
     "outputs": [
      {
       "output_type": "stream",
       "stream": "stdout",
       "text": [
        "[ 0.12999999]\n"
       ]
      },
      {
       "metadata": {},
       "output_type": "display_data",
       "png": "[encoded data removed]",
       "text": [
        "<matplotlib.figure.Figure at 0x7fcee1eb6210>"
       ]
      }
     ],
     "prompt_number": 15
    },
    {
     "cell_type": "markdown",
     "metadata": {},
     "source": [
      "5. Solution Reaction (5 Points)\n",
      "====\n",
      "\n",
      "The equilbrium is given by:\n",
      "\n",
      "$$k(T) = \\frac{[A][B]}{[AB]} = \\frac{x\\times x}{1.5 - x} \\frac{1}{25 \\textrm{gal}}$$\n",
      "\n",
      "The factor of $1/25$ is because the equilibrium is for units of concentration.\n",
      "\n",
      "The change in temperature can be found by rearranging the heat capacity definition:\n",
      "\n",
      "$$ \\Delta Q = c_p m \\Delta T$$\n",
      "\n",
      "$$m = V\\rho$$\n",
      "\n",
      "The enthalpy of reaction can be used to compute the heat going into the tank.\n",
      "\n",
      "$$ \\Delta \\hat{H} \\times x = \\Delta Q$$\n",
      "\n",
      "$$\\Delta T = \\frac{\\Delta H x}{c_p V \\rho}$$\n",
      "\n",
      "Therefore, the temperature of the tank is given by:\n",
      "\n",
      "$$T(x) = T + \\frac{\\Delta H x}{c_p V \\rho}$$\n",
      "\n",
      "Now we can rewrite the equilbirium constant in terms of $x$:\n",
      "\n",
      "$$ k(x) = Ae^{\\frac{-B}{RT}} + C\\left(\\frac{B}{RT(x)} - 0.5\\right)^2 $$\n",
      "\n",
      "Plugging the above equation into the equilbrium equation above gives us an equation with $x$ on both sides. This can be solved numerically by making it a root equation:\n",
      "\n",
      "$$k(x) - \\frac{x\\times x}{1.5 - x} \\frac{1}{25 \\textrm{gal}} = 0 $$\n",
      "\n",
      "Grading\n",
      "====\n",
      "\n",
      "* Neglectected water heating -3\n",
      "* Didn't use water mass, instead used 1.5 or extent -1\n",
      "* Set up correctly, didn't optimize correctly -1"
     ]
    },
    {
     "cell_type": "code",
     "collapsed": false,
     "input": [
      "A = 10.\n",
      "B = 500.\n",
      "C = 10.**-3\n",
      "R = 1.986\n",
      "\n",
      "def k(T):\n",
      "    return A * np.exp(-B / (R * T)) + C * (B / (R * T) - 0.5)**2\n",
      "\n",
      "def delta_T(x):\n",
      "    cp = 17.89 #BTU / (lb-mol R)\n",
      "    density = 8.345 #lb / gal\n",
      "    MW = 18 #lb-mol / mol\n",
      "    delta_Q = 863.9 * x\n",
      "    delta_T = delta_Q / (cp * density * 25.0 / MW)\n",
      "    return delta_T\n",
      "    #return x * 0\n",
      "\n",
      "def eqn(x):\n",
      "    return x ** 2 / (1.5 - x) / 25.0 - k(510 + delta_T(x))\n",
      "\n",
      "\n",
      "print \n",
      "\n",
      "\n",
      "x = brentq(eqn, a=10**-10, b=1.5 - 10**-10)\n",
      "print x\n",
      "print 1.5 - x, \"lb-mol of AB Remains\" \n",
      "print 'Temperature is', 510 + delta_T(x)\n",
      "\n",
      "x = np.arange(0.01, 1.5, 0.01)\n",
      "f1 = k(510 + delta_T(x))\n",
      "f2 = x ** 2 / (1.5 - x) / 25.0 \n",
      "\n",
      "plt.plot(x, f1)\n",
      "plt.plot(x, f2)\n",
      "plt.show()"
     ],
     "language": "python",
     "metadata": {},
     "outputs": [
      {
       "output_type": "stream",
       "stream": "stdout",
       "text": [
        "\n",
        "1.48562207929\n",
        "0.0143779207147 lb-mol of AB Remains\n",
        "Temperature is 516.189671977\n"
       ]
      },
      {
       "metadata": {},
       "output_type": "display_data",
       "png": "[encoded data removed]",
       "text": [
        "<matplotlib.figure.Figure at 0x7fcee24ba350>"
       ]
      }
     ],
     "prompt_number": 5
    },
    {
     "cell_type": "markdown",
     "metadata": {},
     "source": [
      "6. 2D Minimization (5 Points)\n",
      "==="
     ]
    },
    {
     "cell_type": "code",
     "collapsed": false,
     "input": [
      "import scipy.optimize\n",
      "\n",
      "def obj(x):\n",
      "    return np.cos(x[0] + 1) * np.sin(x[1]) + (x[0] + 2)**2\n",
      "def constraint(x):\n",
      "    return -1 * x[0] * x[1]\n",
      "\n",
      "print constraint([1,-2])\n",
      "print constraint([1,2])\n",
      "constraints = {'type':'ineq', 'fun':constraint}\n",
      "\n",
      "print scipy.optimize.minimize(obj, x0=[0,0], constraints=constraints)"
     ],
     "language": "python",
     "metadata": {},
     "outputs": [
      {
       "output_type": "stream",
       "stream": "stdout",
       "text": [
        "2\n",
        "-2\n",
        "  status: 0\n",
        " success: True\n",
        "    njev: 6\n",
        "    nfev: 25\n",
        "     fun: 2.5744519255533931e-08\n",
        "       x: array([ -1.99999954e+00,   4.76479299e-08])\n",
        " message: 'Optimization terminated successfully.'\n",
        "     jac: array([  9.80806521e-07,   5.40302695e-01,   0.00000000e+00])\n",
        "     nit: 6\n"
       ]
      }
     ],
     "prompt_number": 7
    },
    {
     "cell_type": "markdown",
     "metadata": {},
     "source": [
      "Why isn't it working?\n",
      "----\n",
      "\n",
      "We can see that this won't arrive at the correct function value given in the hint. You should also see that different starting conditions give different values. It is non-convex, so we must use basin hopping."
     ]
    },
    {
     "cell_type": "code",
     "collapsed": false,
     "input": [
      "from math import pi\n",
      "\n",
      "minimizer_args = {'constraints': constraints, 'bounds': [(-2*pi, 2*pi), (-2*pi, 2*pi)]}\n",
      "print scipy.optimize.basinhopping(obj, x0=[0,0], minimizer_kwargs=minimizer_args, niter=1000)\n",
      "scipy.optimize.basinhopping(obj, x0=[0,0], minimizer_kwargs=minimizer_args)"
     ],
     "language": "python",
     "metadata": {},
     "outputs": [
      {
       "output_type": "stream",
       "stream": "stdout",
       "text": [
        "                  nfev: 26004\n",
        " minimization_failures: 0\n",
        "                   fun: -0.67519533465082748\n",
        "                     x: array([-1.68403752,  4.71239065])\n",
        "               message: ['requested number of basinhopping iterations completed successfully']\n",
        "                  njev: 6229\n",
        "                   nit: 1000\n"
       ]
      },
      {
       "metadata": {},
       "output_type": "pyout",
       "prompt_number": 12,
       "text": [
        "                  nfev: 2116\n",
        " minimization_failures: 0\n",
        "                   fun: -1.2124802138186466e-07\n",
        "                     x: array([ -1.99999805e+00,  -2.24414093e-07])\n",
        "               message: ['requested number of basinhopping iterations completed successfully']\n",
        "                  njev: 515\n",
        "                   nit: 100"
       ]
      }
     ],
     "prompt_number": 12
    },
    {
     "cell_type": "markdown",
     "metadata": {},
     "source": [
      "So we see that the final value is $x=-1.7$ and $y=4.7$"
     ]
    },
    {
     "cell_type": "markdown",
     "metadata": {},
     "source": [
      "7. Sample Covariance (3 Points)\n",
      "===\n",
      "\n",
      "The correlation is high in magnitude (good correlation) and negative (since we saw in the plot the slope is negative). The covariance is negative between the two as expected. The variance in x is just related to the number of x points and then the covariance is approximately the variance in x times the slope. Key parts for grading are saying the correlation is good and negative for slope. In the covariance, a comment about it including the spread or variance of the data is required. \n"
     ]
    },
    {
     "cell_type": "code",
     "collapsed": false,
     "input": [
      "print np.corrcoef(data_3_x,data_3_y,ddof=1)\n",
      "\n",
      "print np.cov(data_3_x,data_3_y,ddof=1)"
     ],
     "language": "python",
     "metadata": {},
     "outputs": [
      {
       "output_type": "stream",
       "stream": "stdout",
       "text": [
        "[[ 1.         -0.99887012]\n",
        " [-0.99887012  1.        ]]\n",
        "[[  8.41666667 -16.75073737]\n",
        " [-16.75073737  33.41255499]]\n"
       ]
      }
     ],
     "prompt_number": 49
    },
    {
     "cell_type": "markdown",
     "metadata": {},
     "source": [
      "8. Functions of Distributions (1 Point)\n",
      "===\n",
      "\n",
      "This is applying a function on a continuous distribution. You can think of it as a change of random variables. \n",
      "\n",
      "We have $g(t) = e^{0.9t}$ and $p(t) = \\lambda e^{-\\lambda t}$, where $\\lambda = \\frac{1}{10}$ if $t$ is in years.\n",
      "\n",
      "The equation given lecture is:\n",
      "\n",
      "$$p(Y = y) = \\int_Q \\delta(g(x) - y)p(x)\\,dx$$\n",
      "\n",
      "and then using our function and pdf:\n",
      "\n",
      "$$p(N = n) = \\int_0^\\infty \\delta \\left( e^{0.9t} - n \\right) \\lambda e^{-\\lambda t}\\,dt$$"
     ]
    },
    {
     "cell_type": "code",
     "collapsed": false,
     "input": [],
     "language": "python",
     "metadata": {},
     "outputs": []
    }
   ],
   "metadata": {}
  }
 ]
}