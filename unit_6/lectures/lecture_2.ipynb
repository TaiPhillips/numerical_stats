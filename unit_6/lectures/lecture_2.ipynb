{
 "cells": [
  {
   "cell_type": "markdown",
   "metadata": {
    "collapsed": true,
    "slideshow": {
     "slide_type": "slide"
    }
   },
   "source": [
    " # Unit 6, Lecture 2\n",
    "\n",
    "*Numerical Methods and Statistics*\n",
    "\n",
    "----\n",
    "\n",
    "#### Prof. Andrew White, Feb 22 2020"
   ]
  },
  {
   "cell_type": "markdown",
   "metadata": {
    "slideshow": {
     "slide_type": "slide"
    }
   },
   "source": [
    "# Lecture Goals\n",
    "\n",
    "0. Understand the `break` statement\n",
    "1. Understand the `while` loop and know when it is more appropiate than the `for` loop\n",
    "2. Understand the definition of a prediction interval and its connection to loops\n",
    "3. Be familiar with the `scipy.stats` module\n",
    "4. Know and have intuition about the normal probability distribution\n",
    "5. Be able to compute cumulative and prediction intervals with the normal distribution"
   ]
  },
  {
   "cell_type": "code",
   "execution_count": 1,
   "metadata": {
    "collapsed": true,
    "slideshow": {
     "slide_type": "skip"
    }
   },
   "outputs": [],
   "source": [
    "import matplotlib.pyplot as plt\n",
    "import numpy as np\n",
    "%matplotlib inline\n",
    "import matplotlib"
   ]
  },
  {
   "cell_type": "markdown",
   "metadata": {
    "slideshow": {
     "slide_type": "slide"
    }
   },
   "source": [
    "Break Statements\n",
    "====\n",
    "Sometimes you may want to stop a `for` loop early. This may be done with a `break` statement:"
   ]
  },
  {
   "cell_type": "code",
   "execution_count": 2,
   "metadata": {
    "slideshow": {
     "slide_type": "fragment"
    }
   },
   "outputs": [
    {
     "name": "stdout",
     "output_type": "stream",
     "text": [
      "fox 0\n",
      "cat 1\n",
      "dog 2\n",
      "crow 3\n"
     ]
    }
   ],
   "source": [
    "#Iterate through my favorite pets\n",
    "best_pets = ['fox', 'cat', 'dog', 'crow']\n",
    "index = 0 #Keep track of the index\n",
    "for pet in best_pets:\n",
    "    print(pet, index)\n",
    "    index += 1"
   ]
  },
  {
   "cell_type": "code",
   "execution_count": 3,
   "metadata": {
    "slideshow": {
     "slide_type": "subslide"
    }
   },
   "outputs": [
    {
     "name": "stdout",
     "output_type": "stream",
     "text": [
      "The dog has index 2\n",
      "dog\n"
     ]
    }
   ],
   "source": [
    "#Now stop and report the dog index\n",
    "best_pets = ['fox', 'cat', 'dog', 'crow']\n",
    "index = 0\n",
    "for pet in best_pets:\n",
    "    if pet == 'dog':\n",
    "        print('The dog has index {}'.format(index))\n",
    "        break\n",
    "    index += 1\n",
    "    \n",
    "print(best_pets[index])"
   ]
  },
  {
   "cell_type": "markdown",
   "metadata": {
    "slideshow": {
     "slide_type": "subslide"
    }
   },
   "source": [
    "Here's an example where we want to know when summing integers reaches 50"
   ]
  },
  {
   "cell_type": "code",
   "execution_count": 4,
   "metadata": {
    "slideshow": {
     "slide_type": "fragment"
    }
   },
   "outputs": [
    {
     "name": "stdout",
     "output_type": "stream",
     "text": [
      "10 was the integer that pushed us over 50\n"
     ]
    }
   ],
   "source": [
    "#Sum integers and stop when the sum is 50\n",
    "ints = range(100)\n",
    "isum = 0\n",
    "for i in ints:\n",
    "    isum += i\n",
    "    if(isum > 50):\n",
    "        break\n",
    "\n",
    "print('{} was the integer that pushed us over 50'.format(i))"
   ]
  },
  {
   "cell_type": "markdown",
   "metadata": {
    "slideshow": {
     "slide_type": "slide"
    }
   },
   "source": [
    "While loops\n",
    "====\n",
    "Python loops are called `for-each` loops in most other programming languages. That's because they require a list or array to do a `for` loop. You may not always have an array handy, or you many not know how big the array will need to be. For example"
   ]
  },
  {
   "cell_type": "code",
   "execution_count": 5,
   "metadata": {
    "slideshow": {
     "slide_type": "fragment"
    }
   },
   "outputs": [
    {
     "name": "stdout",
     "output_type": "stream",
     "text": [
      "99 was the integer that pushed us to 4950\n"
     ]
    }
   ],
   "source": [
    "#Sum integers and stop when the sum is 10000\n",
    "ints = range(100)\n",
    "isum = 0\n",
    "for i in ints:\n",
    "    isum += i\n",
    "    if(isum > 10000):\n",
    "        break\n",
    "\n",
    "print('{} was the integer that pushed us to {}'.format(i, isum))"
   ]
  },
  {
   "cell_type": "markdown",
   "metadata": {
    "slideshow": {
     "slide_type": "subslide"
    }
   },
   "source": [
    "We needed to know before starting the loop how many integers to loop over!"
   ]
  },
  {
   "cell_type": "markdown",
   "metadata": {
    "slideshow": {
     "slide_type": "subslide"
    }
   },
   "source": [
    "We can get around this using a `while` loop"
   ]
  },
  {
   "cell_type": "code",
   "execution_count": 6,
   "metadata": {
    "slideshow": {
     "slide_type": "fragment"
    }
   },
   "outputs": [
    {
     "name": "stdout",
     "output_type": "stream",
     "text": [
      "142 was the integer that pushed us to 10011\n"
     ]
    }
   ],
   "source": [
    "i = 0\n",
    "isum = 0\n",
    "while isum < 10000:\n",
    "    isum += i\n",
    "    i += 1\n",
    "print('{} was the integer that pushed us to {}'.format(i, isum))"
   ]
  },
  {
   "cell_type": "markdown",
   "metadata": {
    "slideshow": {
     "slide_type": "slide"
    }
   },
   "source": [
    "Computing Prediction Intervals\n",
    "====\n",
    "\n",
    "Now that we know how to `break` or use a `while` loop, we can return to the problem of computing prediction intervals. Consider our geometric distribution from yesterday:\n",
    "\n",
    "$$P(n) = (1 - p)^{n - 1}p$$"
   ]
  },
  {
   "cell_type": "markdown",
   "metadata": {
    "slideshow": {
     "slide_type": "fragment"
    }
   },
   "source": [
    "Assuming $p=0.1$. Find the smallest $x$ such that:\n",
    "$$ P(n < x) \\geq 0.9$$"
   ]
  },
  {
   "cell_type": "markdown",
   "metadata": {
    "slideshow": {
     "slide_type": "subslide"
    }
   },
   "source": [
    "First, let's just sum to $1$ to make sure our code is correct"
   ]
  },
  {
   "cell_type": "code",
   "execution_count": 7,
   "metadata": {
    "slideshow": {
     "slide_type": "fragment"
    }
   },
   "outputs": [
    {
     "name": "stdout",
     "output_type": "stream",
     "text": [
      "0.9999704873345701\n"
     ]
    }
   ],
   "source": [
    "Q = range(1, 100)\n",
    "p = 0.1\n",
    "psum = 0\n",
    "for n in Q:\n",
    "    psum += (1 - p) ** (n - 1) * p\n",
    "print(psum)"
   ]
  },
  {
   "cell_type": "markdown",
   "metadata": {
    "slideshow": {
     "slide_type": "subslide"
    }
   },
   "source": [
    "Now we'll stop early, when we've reached the $0.9$ probability."
   ]
  },
  {
   "cell_type": "markdown",
   "metadata": {
    "slideshow": {
     "slide_type": "fragment"
    }
   },
   "source": [
    "$$ \\min_x \\sum_i^x P(i) \\geq 0.9$$\n",
    "$$ \\min_x \\sum_i^x (1 - p)^{i - 1}p \\geq 0.9$$\n",
    "\n",
    "I write min, because otherwise you could trivially just pick $x= \\infty$ which is not what we want."
   ]
  },
  {
   "cell_type": "code",
   "execution_count": 1,
   "metadata": {
    "slideshow": {
     "slide_type": "fragment"
    }
   },
   "outputs": [
    {
     "name": "stdout",
     "output_type": "stream",
     "text": [
      "The number which pushed our sum over 0.9 is 22. The sum is 0.9015229097816391\n"
     ]
    }
   ],
   "source": [
    "Q = range(1, 100)\n",
    "p = 0.1\n",
    "psum = 0\n",
    "for n in Q:\n",
    "    psum += (1 - p) ** (n - 1) * p\n",
    "    if(psum >= 0.9):\n",
    "        break\n",
    "print('The number which pushed our sum over 0.9 is {}. The sum is {}'.format(n, psum))"
   ]
  },
  {
   "cell_type": "markdown",
   "metadata": {
    "slideshow": {
     "slide_type": "subslide"
    }
   },
   "source": [
    "*With a prediction level of 90%, success will occur within 22 trials/attempts*"
   ]
  },
  {
   "cell_type": "markdown",
   "metadata": {
    "slideshow": {
     "slide_type": "fragment"
    }
   },
   "source": [
    "*The 90% prediction interval is [1,22]*"
   ]
  },
  {
   "cell_type": "markdown",
   "metadata": {
    "collapsed": true,
    "slideshow": {
     "slide_type": "slide"
    }
   },
   "source": [
    "Scipy Stats\n",
    "----\n",
    "\n",
    "There is a library, that we will gradually begin to use, that has all distributions and utilities for prediction intervals. Use it sparingly until you understand the concepts well"
   ]
  },
  {
   "cell_type": "code",
   "execution_count": 17,
   "metadata": {
    "slideshow": {
     "slide_type": "subslide"
    }
   },
   "outputs": [
    {
     "data": {
      "text/plain": [
       "0.08192000000000002"
      ]
     },
     "execution_count": 17,
     "metadata": {},
     "output_type": "execute_result"
    }
   ],
   "source": [
    "#geometric probability of 5 with p=0.2\n",
    "p = 0.2\n",
    "n = 5\n",
    "(1 - p )**(n - 1) * p"
   ]
  },
  {
   "cell_type": "code",
   "execution_count": 18,
   "metadata": {
    "slideshow": {
     "slide_type": "subslide"
    }
   },
   "outputs": [
    {
     "data": {
      "text/plain": [
       "0.081920000000000021"
      ]
     },
     "execution_count": 18,
     "metadata": {},
     "output_type": "execute_result"
    }
   ],
   "source": [
    "from scipy import stats as ss\n",
    "\n",
    "ss.geom.pmf(5, p=0.2)"
   ]
  },
  {
   "cell_type": "markdown",
   "metadata": {
    "slideshow": {
     "slide_type": "subslide"
    }
   },
   "source": [
    "You can plot, since this is a `numpy` supporting library"
   ]
  },
  {
   "cell_type": "code",
   "execution_count": 19,
   "metadata": {
    "slideshow": {
     "slide_type": "fragment"
    }
   },
   "outputs": [
    {
     "data": {
      "image/png": "[encoded data removed]",
      "text/plain": [
       "<matplotlib.figure.Figure at 0x7f0c40a351d0>"
      ]
     },
     "metadata": {},
     "output_type": "display_data"
    }
   ],
   "source": [
    "n = np.arange(1,15)\n",
    "pn = ss.geom.pmf(n, p=0.1)\n",
    "plt.plot(n, pn, 'bo')\n",
    "plt.show()"
   ]
  },
  {
   "cell_type": "markdown",
   "metadata": {
    "slideshow": {
     "slide_type": "subslide"
    }
   },
   "source": [
    "Scipy stats has all the cumulative distributions as well."
   ]
  },
  {
   "cell_type": "code",
   "execution_count": 20,
   "metadata": {
    "slideshow": {
     "slide_type": "fragment"
    }
   },
   "outputs": [
    {
     "data": {
      "text/plain": [
       "0.90152290978163885"
      ]
     },
     "execution_count": 20,
     "metadata": {},
     "output_type": "execute_result"
    }
   ],
   "source": [
    "#amount of probability between n=1 (inc) and n=22\n",
    "ss.geom.cdf(22, p=0.1)"
   ]
  },
  {
   "cell_type": "markdown",
   "metadata": {
    "slideshow": {
     "slide_type": "subslide"
    }
   },
   "source": [
    "Finally, there is a function to ask about prediction intervals."
   ]
  },
  {
   "cell_type": "code",
   "execution_count": 21,
   "metadata": {
    "collapsed": true,
    "slideshow": {
     "slide_type": "fragment"
    }
   },
   "outputs": [],
   "source": [
    "#what should the rv for the cdf be a certain number?"
   ]
  },
  {
   "cell_type": "code",
   "execution_count": 22,
   "metadata": {
    "slideshow": {
     "slide_type": "fragment"
    }
   },
   "outputs": [
    {
     "data": {
      "text/plain": [
       "22.0"
      ]
     },
     "execution_count": 22,
     "metadata": {},
     "output_type": "execute_result"
    }
   ],
   "source": [
    "ss.geom.ppf(0.9, p=0.1)"
   ]
  },
  {
   "cell_type": "markdown",
   "metadata": {
    "slideshow": {
     "slide_type": "subslide"
    }
   },
   "source": [
    "For now, I will have you use scipy stats to check your work. You may not use it on homework unless specified or you're working with the normal distribution."
   ]
  },
  {
   "cell_type": "markdown",
   "metadata": {
    "slideshow": {
     "slide_type": "fragment"
    }
   },
   "source": [
    "One note about scipy stats is that you need to visit the documentation website to get complete function help. The docstrings often don't provide enough info."
   ]
  },
  {
   "cell_type": "markdown",
   "metadata": {
    "slideshow": {
     "slide_type": "slide"
    }
   },
   "source": [
    "Working with the Normal Distribution\n",
    "====\n",
    "\n",
    "Recall the equation:\n",
    "\n",
    "$$p(x) = \\frac{1}{\\sqrt{2\\pi\\sigma^2}} e^{-\\frac{(x - \\mu)^2}{2\\sigma^2}} $$"
   ]
  },
  {
   "cell_type": "markdown",
   "metadata": {
    "slideshow": {
     "slide_type": "fragment"
    }
   },
   "source": [
    "There is not much to do with this equation however, since we must integrate it to compute probabilities"
   ]
  },
  {
   "cell_type": "markdown",
   "metadata": {
    "slideshow": {
     "slide_type": "slide"
    }
   },
   "source": [
    "Computing Probability of Interval\n",
    "===\n",
    "\n",
    "Recall that for continuous probability disributions:\n",
    "\n",
    "$$P(a < x < b) = \\int_a^b p(x) \\, dx$$"
   ]
  },
  {
   "cell_type": "markdown",
   "metadata": {
    "slideshow": {
     "slide_type": "subslide"
    }
   },
   "source": [
    "For a normal distribution, let's try $\\mu = 2$, $\\sigma = 0.5$. What is the probability of a sample falling between $2$ and $3$?\n",
    "\n",
    "$$P(2 < x < 3) = \\int_2^3 \\frac{1}{\\sqrt{2\\pi0.5^2}} e^{-\\frac{(x - 2)^2}{2\\times0.5^2}}  \\, dx$$\n",
    "\n"
   ]
  },
  {
   "cell_type": "markdown",
   "metadata": {
    "slideshow": {
     "slide_type": "subslide"
    }
   },
   "source": [
    "We can use the `ss.norm.cdf`, where CDF is the cumulative distribution function. This is the definition of the CDF:\n",
    "\n",
    "$$ CDF(x) = \\int_{-\\infty}^x p(x')\\,dx'$$"
   ]
  },
  {
   "cell_type": "markdown",
   "metadata": {
    "slideshow": {
     "slide_type": "fragment"
    }
   },
   "source": [
    "Using some math, you can show that:\n",
    "\n",
    "$$P(a < x < b) = CDF(b) - CDF(a)$$\n",
    "\n",
    "so for our example:"
   ]
  },
  {
   "cell_type": "code",
   "execution_count": 1,
   "metadata": {
    "slideshow": {
     "slide_type": "subslide"
    }
   },
   "outputs": [
    {
     "name": "stdout",
     "output_type": "stream",
     "text": [
      "0.477249868052\n"
     ]
    }
   ],
   "source": [
    "from scipy import stats as ss\n",
    "prob = ss.norm.cdf(3, scale=0.5, loc=2) - ss.norm.cdf(2, scale=0.5, loc=2)\n",
    "print(prob)"
   ]
  },
  {
   "cell_type": "markdown",
   "metadata": {
    "slideshow": {
     "slide_type": "slide"
    }
   },
   "source": [
    "Standard Normal Distribution\n",
    "====\n",
    "\n",
    "In the olden days, someone made a table for all these integrals and it is called a $Z$ table. We won't use Z tables, but the concept is important and I'm making you learn it. "
   ]
  },
  {
   "cell_type": "markdown",
   "metadata": {
    "slideshow": {
     "slide_type": "fragment"
    }
   },
   "source": [
    "Since different normal distributions have different means and such, they invented the idea of Standard Normal Distributions:\n",
    "\n",
    "$$\n",
    "Z = \\frac{x - \\mu}{\\sigma}\n",
    "$$\n",
    "\n",
    "and then you use this $Z$ as being a sample in the $\\cal{N}(0,1)$ distribution. These are called $Z$ scores. The input, $x$, should always be the bounds of some interval. $Z$ scores are not used to compute probability densities, only for intervals to compute probabilities. "
   ]
  },
  {
   "cell_type": "markdown",
   "metadata": {
    "slideshow": {
     "slide_type": "subslide"
    }
   },
   "source": [
    "Let's see how this looks. Let's say we have a random variable distributed according to $\\cal{N}(-2, 3)$. That is a shorthand for $\\mu=-2$, $\\sigma = 3$. Let's say we want to know $P( x > 0)$. We can rewrite that as:\n",
    "\n",
    "$$P(x > 0) = 1 - P(x < 0) = 1 - \\int_{-\\infty}^0 \\cal{N}(-2, 3) \\, dx$$\n",
    "\n",
    "Now it's in a form where we can use the CDF:\n"
   ]
  },
  {
   "cell_type": "code",
   "execution_count": 4,
   "metadata": {
    "slideshow": {
     "slide_type": "fragment"
    }
   },
   "outputs": [
    {
     "data": {
      "text/plain": [
       "0.25249253754692291"
      ]
     },
     "execution_count": 4,
     "metadata": {},
     "output_type": "execute_result"
    }
   ],
   "source": [
    "1 - ss.norm.cdf(0, scale=3, loc=-2)"
   ]
  },
  {
   "cell_type": "markdown",
   "metadata": {
    "slideshow": {
     "slide_type": "subslide"
    }
   },
   "source": [
    "Now we can do the same problem using $Z$-scores. Let's compute the $Z$-score:\n",
    "\n",
    "$$Z = \\frac{x - \\mu}{\\sigma} = \\frac{0 - -2}{3} = \\frac{2}{3}$$"
   ]
  },
  {
   "cell_type": "code",
   "execution_count": 5,
   "metadata": {
    "slideshow": {
     "slide_type": "fragment"
    }
   },
   "outputs": [
    {
     "data": {
      "text/plain": [
       "0.25249253754692291"
      ]
     },
     "execution_count": 5,
     "metadata": {},
     "output_type": "execute_result"
    }
   ],
   "source": [
    "Z = 2 / 3.\n",
    "1 - ss.norm.cdf(Z)"
   ]
  },
  {
   "cell_type": "markdown",
   "metadata": {
    "slideshow": {
     "slide_type": "subslide"
    }
   },
   "source": [
    "Notice that by default, `scipy` assumes a standard normal distribution!"
   ]
  },
  {
   "cell_type": "markdown",
   "metadata": {
    "slideshow": {
     "slide_type": "slide"
    }
   },
   "source": [
    "Normal Distribution Examples\n",
    "----\n",
    "\n",
    "The amount of snowfall today has an expected value of 5 inches and a standard deviation of 1.5 inches. What's the probability of getting between 3 and 5 inches?"
   ]
  },
  {
   "cell_type": "markdown",
   "metadata": {
    "slideshow": {
     "slide_type": "subslide"
    }
   },
   "source": [
    "Let's do this with $Z$ scores. \n",
    "\n",
    "$$Z_{hi} = \\frac{5 - 5}{1.5}$$\n",
    "\n",
    "$$Z_{lo} = \\frac{3 - 5}{1.5}$$\n",
    "\n",
    "$$P(3 < x < 5) = \\int_{Z_{lo}}^{Z_{hi}} \\cal{N}(0,1)\\,dx$$"
   ]
  },
  {
   "cell_type": "code",
   "execution_count": 6,
   "metadata": {
    "slideshow": {
     "slide_type": "subslide"
    }
   },
   "outputs": [
    {
     "name": "stdout",
     "output_type": "stream",
     "text": [
      "0.408788780274\n"
     ]
    }
   ],
   "source": [
    "Zhi = (5 - 5)/1.5\n",
    "Zlo = (3 - 5)/1.5\n",
    "\n",
    "prob = ss.norm.cdf(Zhi) - ss.norm.cdf(Zlo)\n",
    "\n",
    "print(prob)"
   ]
  },
  {
   "cell_type": "markdown",
   "metadata": {
    "slideshow": {
     "slide_type": "slide"
    }
   },
   "source": [
    "Checking the assumption of a normal distribution\n",
    "---\n",
    "\n",
    "Remember that the normal distribution presumes a sample space of $(-\\infty, \\infty)$. We can't have snow return to the sky, so how bad is our assumption that snowfall is normal?"
   ]
  },
  {
   "cell_type": "markdown",
   "metadata": {
    "slideshow": {
     "slide_type": "subslide"
    }
   },
   "source": [
    "We can estimate how bad it is, by seeing what the probability of having negative snowfall is.\n",
    "\n",
    "$$P(x < 0) = \\int_{-\\infty}^{0} \\cal{N}(5,1.5)$$"
   ]
  },
  {
   "cell_type": "code",
   "execution_count": 7,
   "metadata": {
    "slideshow": {
     "slide_type": "fragment"
    }
   },
   "outputs": [
    {
     "data": {
      "text/plain": [
       "0.00042906033319683719"
      ]
     },
     "execution_count": 7,
     "metadata": {},
     "output_type": "execute_result"
    }
   ],
   "source": [
    "ss.norm.cdf(0, loc=5, scale=1.5)"
   ]
  },
  {
   "cell_type": "code",
   "execution_count": 8,
   "metadata": {
    "slideshow": {
     "slide_type": "fragment"
    }
   },
   "outputs": [
    {
     "data": {
      "text/plain": [
       "0.00042906033319683719"
      ]
     },
     "execution_count": 8,
     "metadata": {},
     "output_type": "execute_result"
    }
   ],
   "source": [
    "Z = (0 - 5)/1.5\n",
    "ss.norm.cdf(Z)"
   ]
  },
  {
   "cell_type": "markdown",
   "metadata": {
    "slideshow": {
     "slide_type": "fragment"
    }
   },
   "source": [
    "Looks great! There is about as much a chance of negative snowfall in our equation as reality."
   ]
  },
  {
   "cell_type": "markdown",
   "metadata": {
    "slideshow": {
     "slide_type": "subslide"
    }
   },
   "source": [
    "Visualizing the Normal Distribution\n",
    "-----\n",
    "\n",
    "Let's  try to understand the different terms. The prefactor is just for normalization. We'll write it as $Q$. The exponent is a distance measuring function, we'll call it $d(x)$:\n",
    "\n",
    "\n",
    "$$ \\cal{N}(\\mu, \\sigma) = Qe^{-d(x)}$$\n",
    "\n",
    "$$d(x) = \\frac{(\\mu - x)^2}{2\\sigma^2}$$"
   ]
  },
  {
   "cell_type": "code",
   "execution_count": 14,
   "metadata": {
    "slideshow": {
     "slide_type": "subslide"
    }
   },
   "outputs": [
    {
     "data": {
      "image/png": "[encoded data removed]",
      "text/plain": [
       "<matplotlib.figure.Figure at 0x7ff2fcc482b0>"
      ]
     },
     "metadata": {},
     "output_type": "display_data"
    }
   ],
   "source": [
    "sigma = 1.\n",
    "mu = 3\n",
    "x = np.linspace(0,6, 100)\n",
    "dist = (mu - x)**2 / (2 * sigma**2)\n",
    "\n",
    "plt.plot(x, dist)\n",
    "plt.show()"
   ]
  },
  {
   "cell_type": "code",
   "execution_count": 16,
   "metadata": {
    "slideshow": {
     "slide_type": "subslide"
    }
   },
   "outputs": [
    {
     "data": {
      "image/png": "[encoded data removed]",
      "text/plain": [
       "<matplotlib.figure.Figure at 0x7ff2fcbc7828>"
      ]
     },
     "metadata": {},
     "output_type": "display_data"
    }
   ],
   "source": [
    "from math import *\n",
    "\n",
    "Q = 1 / np.sqrt(2 * sigma**2 * pi)\n",
    "norm = Q * np.exp(-dist)\n",
    "\n",
    "plt.plot(x, norm)\n",
    "plt.show()"
   ]
  },
  {
   "cell_type": "code",
   "execution_count": 20,
   "metadata": {
    "slideshow": {
     "slide_type": "subslide"
    }
   },
   "outputs": [
    {
     "data": {
      "image/png": "[encoded data removed]",
      "text/plain": [
       "<matplotlib.figure.Figure at 0x7ff2fcb59c88>"
      ]
     },
     "metadata": {},
     "output_type": "display_data"
    }
   ],
   "source": [
    "plt.plot(x, ss.norm.pdf(x, loc=3, scale=0.5), label=r'$\\sigma=0.5$')\n",
    "plt.plot(x, ss.norm.pdf(x, loc=3, scale=1.0), label=r'$\\sigma=1.0$')\n",
    "plt.plot(x, ss.norm.pdf(x, loc=3, scale=1.5), label=r'$\\sigma=1.5$')\n",
    "plt.legend()\n",
    "plt.show()"
   ]
  },
  {
   "cell_type": "markdown",
   "metadata": {
    "slideshow": {
     "slide_type": "slide"
    }
   },
   "source": [
    "Prediction Intervals\n",
    "===\n",
    "\n",
    "What if instead of knowing how probable an interval is, we want to find an interval that matches a given probability? This is called a prediction interval, and is something we learned for discrete distributions last time."
   ]
  },
  {
   "cell_type": "markdown",
   "metadata": {
    "slideshow": {
     "slide_type": "subslide"
    }
   },
   "source": [
    "Prediction Interval Example\n",
    "----\n",
    "\n",
    "What's the highest amount of snowfall with 99% probability?"
   ]
  },
  {
   "cell_type": "code",
   "execution_count": 2,
   "metadata": {
    "slideshow": {
     "slide_type": "fragment"
    }
   },
   "outputs": [
    {
     "data": {
      "text/plain": [
       "8.4895218110612607"
      ]
     },
     "execution_count": 2,
     "metadata": {},
     "output_type": "execute_result"
    }
   ],
   "source": [
    "ss.norm.ppf(0.99, scale=1.5, loc=5)"
   ]
  },
  {
   "cell_type": "markdown",
   "metadata": {
    "slideshow": {
     "slide_type": "fragment"
    }
   },
   "source": [
    "So a single sample will fall between $-\\infty$ and $8.5$ with 99% probability"
   ]
  },
  {
   "cell_type": "markdown",
   "metadata": {
    "slideshow": {
     "slide_type": "subslide"
    }
   },
   "source": [
    "To flip your interval, you have to rely on normalization. Let's say we want the lowest amount of snowall with 99% probability. We can flip that and say instead we want the highest snowfall with 1% probability"
   ]
  },
  {
   "cell_type": "code",
   "execution_count": 3,
   "metadata": {
    "slideshow": {
     "slide_type": "fragment"
    }
   },
   "outputs": [
    {
     "data": {
      "text/plain": [
       "1.5104781889387389"
      ]
     },
     "execution_count": 3,
     "metadata": {},
     "output_type": "execute_result"
    }
   ],
   "source": [
    "ss.norm.ppf(0.01, scale=1.5, loc=5)"
   ]
  },
  {
   "cell_type": "markdown",
   "metadata": {
    "slideshow": {
     "slide_type": "fragment"
    }
   },
   "source": [
    "So the snow will be between $-\\infty$ and 1.5 inches with 1% probability, and from normalization be between 1.5 and $\\infty$ with 99% probability. "
   ]
  }
 ],
 "metadata": {
  "celltoolbar": "Slideshow",
  "kernelspec": {
   "display_name": "Python 3",
   "language": "python",
   "name": "python3"
  },
  "language_info": {
   "codemirror_mode": {
    "name": "ipython",
    "version": 3
   },
   "file_extension": ".py",
   "mimetype": "text/x-python",
   "name": "python",
   "nbconvert_exporter": "python",
   "pygments_lexer": "ipython3",
   "version": "3.7.3"
  }
 },
 "nbformat": 4,
 "nbformat_minor": 1
}
