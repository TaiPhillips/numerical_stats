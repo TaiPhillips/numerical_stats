{
 "cells": [
  {
   "cell_type": "markdown",
   "metadata": {},
   "source": [
    "Homework 6\n",
    "====\n",
    "#### CHE 116: Numerical Methods and Statistics\n",
    "\n",
    "2/22/2018\n",
    "\n",
    "----"
   ]
  },
  {
   "cell_type": "markdown",
   "metadata": {},
   "source": [
    "1. Review Questions (10 Points)\n",
    "=====\n",
    "\n",
    "1. [1 point] A probability mass function must give a positive number for each element in the sample space and $\\underline{\\hspace{0.5in}}$?\n",
    "\n",
    "2. [1 point] Which of these are invalid sample spaces and which are valid: $\\{1,3,-2\\}$, $\\{A, B\\}$, $\\{\\textrm{Ace of hearts}, \\textrm{king of diamonds}\\}$, all real numbers.\n",
    "\n",
    "3. [1 point] What rule allows me to rewrite $P(x \\,|\\,y)P(y)$ as $P(x, y)$?\n",
    "\n",
    "4. [2 points] If there is a 10% chance of rain for 3 days in a row, what's the probability of there being rain at least once within those days?\n",
    "\n",
    "5. [2 points] Harry says that expected value is like an average, so you can compute two ways: $ E[X] = \\sum_i^N \\frac{x_i}{N} $ and the way we learned in class: $E[X] = \\sum_i P(x) \\cdot x$. Is Harry correct or is there an issue with his logic?\n",
    "\n",
    "6. [1 point] How many elements will I have in my list if I create it using `list(range(5,8))`?\n",
    "\n",
    "7. [2 points] In the binomial distribution, we only consider number of successes. Let's try considering each permutation as unique. For example, if $N = 3$ and $n = 1$, you could have $100$, $010$, and $001$. If $N = 10$, how many unique permutations are possible for all numbers of successes? Review your HW 5, questions 1.2-1.5. \n",
    "\n"
   ]
  },
  {
   "cell_type": "markdown",
   "metadata": {},
   "source": [
    "### 1.1 \n",
    "\n",
    "sum to 1\n",
    "\n",
    "### 1.2\n",
    "\n",
    "all are valid\n",
    "\n",
    "### 1.3\n",
    "\n",
    "Definition of conditional\n",
    "\n",
    "### 1.4\n",
    "\n",
    "Binomial with $p=0.1,\\,N=3$. Being asked $1 - P(n = 0)$. Binomial coefficient is 1 for $0$, so just $1 - (1 - 0.1)^{3} = 0.271$\n",
    "\n",
    "### 1.5\n",
    "\n",
    "Expected value is only conceptually like an average. We do not have data, so the first expression requires a sum of data. We have elements in a sample space, so only the second equation can be used. The law of large numbers connects them, but that's in the limit of large amounts of data. \n",
    "\n",
    "### 1.6\n",
    "\n",
    "3\n",
    "\n",
    "\n",
    "### 1.7\n",
    "\n",
    "$$\n",
    "2^{10} = 1024\n",
    "$$"
   ]
  },
  {
   "cell_type": "markdown",
   "metadata": {},
   "source": [
    "2. Marginal Probability Review (19 Points)\n",
    "===\n",
    "\n",
    "You are a baby being carried in a stork to your parents. Your parents live in either:\n",
    "\n",
    "1. USA (u, 320)\n",
    "2. China (c, 1300)\n",
    "3. Germany (g, 80)\n",
    "\n",
    "The probability of your birth location is proportional to the populations. As a baby, you are concerned with your career options, which are\n",
    "\n",
    "1. Rock star (r)\n",
    "2. Professor (p)\n",
    "3. Doctor (d)\n",
    "\n",
    "Answer the following using $B$ as the random variable for birthplace and $J$ as the random variable for job. We have the following information:\n",
    "\n",
    "$$P(J = r \\,|\\, B = c) = 0.05$$\n",
    "\n",
    "$$P(J = d \\,|\\, B = c) = 0.5$$\n",
    "\n",
    "$$P(J = r \\,|\\, B = u) = 0.8$$\n",
    "\n",
    "$$P(J = p\\,|\\, B = u) = 0.01$$\n",
    "\n",
    "$$P(J = p\\,|\\, B = g) = 0.75$$\n",
    "\n",
    "$$P(J = d \\,|\\, B = g) = 0.2$$\n",
    "\n",
    "0. [2 point] Write out the missing conditionals and marginal probabilities.\n",
    "1. [4 points] What is the probability that you will be a professor?\n",
    "2. [3 points] What is the probability that you will be a rock star born in China?\n",
    "3. [2 point] You were born in Germany. What's the probability of becoming a doctor?\n",
    "4. [4 points] Consider the random variable $Z$, which indicates if you are a doctor or rockstar (true for $J=d$ and $J=r$). What is $P(Z = 1 \\,|\\, B=u)$?\n",
    "5. [4 points] What is $P(B=g \\,|\\, Z = 0)$? Find a way to re-use the calculation you did in 2.2 to help"
   ]
  },
  {
   "cell_type": "markdown",
   "metadata": {},
   "source": [
    "### 2.1\n",
    "\n",
    "$$P(J = p \\,|\\, B = c) = 0.45$$\n",
    "\n",
    "$$P(J = d \\,|\\, B = u) = 0.19$$\n",
    "\n",
    "$$P(J = r \\,| \\,B = g) = 0.05$$\n",
    "\n",
    "$$P(B = c) = \\frac{1300}{1700} \\approx 0.76$$\n",
    "\n",
    "$$P(B = u) = \\frac{320}{1700} \\approx 0.19$$\n",
    "\n",
    "$$P(B = g) = \\frac{80}{1700} \\approx 0.05$$\n",
    "\n",
    "\n",
    "### 2.2\n",
    "\n",
    "$$\n",
    "P(J = p) = \\sum_b P(J = p\\, | B = b) P(B = b) = 0.45 \\times 0.76 + 0.01\\times 0.19 + 0.75\\times 0.05 = 0.38\n",
    "$$\n",
    "\n",
    "### 2.3\n",
    "\n",
    "$$\n",
    "P(J = r, B = c) = P(J = r\\, |\\, B = c) P(B = c) = 0.05\\times 0.76 = 0.038\n",
    "$$\n",
    "\n",
    "\n",
    "### 2.4\n",
    "\n",
    "$$\n",
    "P(J = d\\, |\\, B = g) = 0.2\n",
    "$$\n",
    "\n",
    "### 2.5\n",
    "\n",
    "$$\n",
    "P(Z = 1 \\, |\\, B = u) = P(J = d, J = p\\, | \\, B = u) = 1 - P(J = r\\, | \\, B = u) = 0.2\n",
    "$$\n",
    "\n",
    "### 2.6\n",
    "\n",
    "$$\n",
    "P(B = g\\, |\\, Z = 0) = \\frac{P(Z = 0\\, |\\, B = g) P(B = g)}{P(Z = 0)} = \\frac{P(Z = p\\, |\\, B = g) P(B = g)}{P(B = p)}\n",
    "$$\n",
    "\n",
    "$$\n",
    "P(B = g\\, |\\, Z = 0) = \\frac{0.75 \\times 0.05}{0.38} \\approx 0.1\n",
    "$$"
   ]
  },
  {
   "cell_type": "markdown",
   "metadata": {},
   "source": [
    "3. Plotting Probability Distributions (18 Points)\n",
    "===\n",
    "\n",
    "*Label your axes, add a title, and use LaTeX in your labels when necessary. Use dots connected by lines for discrete and lines for continuous.*\n",
    "\n",
    "1. [6 points] Plot three different parameter of the geometric distribution: $p = 0.2, p = 0.5, p = 0.8$.  Add vertical lines at their means. Extra credit: accomplish the plot of the three lines using a `for` loop.\n",
    "\n",
    "2. [4 points] Plot the binomial distribution for $N = 25, p = 0.7$. Recall that the Poisson is an approximation to the Binomial. Plot the Poisson approximation to this Binomial distribution on the same plot. \n",
    "\n",
    "3. [2 points] Make a second plot with the binomial and Poisson, but use $N = 25, p = 0.10$. How good is the approximation? \n",
    "\n",
    "4. [6 points] The command `plt.fill_between` can be used to plot an area under a curve. For example, `fill_between(x, 0, y)` will fill the area between 0 and `y`, where `y` could be a `numpy` array. Using `fill_between`, show the cumulative probability function for the exponential distribution from $t = 0$ to $t = 5$ with $\\lambda = 0.25$. Ensure that there are two lines on your plot: one that is the exponential pdf and one that is the `fill_between`. The pdf should extend further than your `fill_between` line. Add a vertical line at $t=5$. No legend necessary."
   ]
  },
  {
   "cell_type": "code",
   "execution_count": 3,
   "metadata": {},
   "outputs": [],
   "source": [
    "import matplotlib.pyplot as plt\n",
    "%matplotlib inline\n",
    "import numpy as np"
   ]
  },
  {
   "cell_type": "code",
   "execution_count": 4,
   "metadata": {},
   "outputs": [
    {
     "data": {
      "image/png": "[encoded data removed]",
      "text/plain": [
       "<matplotlib.figure.Figure at 0x7f02e0d87f28>"
      ]
     },
     "metadata": {},
     "output_type": "display_data"
    }
   ],
   "source": [
    "#3.1\n",
    "\n",
    "p = [0.2, 0.5, 0.8]\n",
    "n = np.arange(1, 8)\n",
    "for i, pi in enumerate(p):\n",
    "    plt.plot(n, pi * (1 - pi)**(n - 1), 'o-', label='$p={}$'.format(pi), color='C{}'.format(i))\n",
    "    plt.axvline(x = 1/ pi, color='C{}'.format(i))\n",
    "    \n",
    "plt.title('Problem 3.1 - Geometric')\n",
    "plt.xlabel('$n$')\n",
    "plt.ylabel('$P(n)$')\n",
    "plt.legend()\n",
    "\n",
    "plt.show()"
   ]
  },
  {
   "cell_type": "code",
   "execution_count": 3,
   "metadata": {},
   "outputs": [
    {
     "data": {
      "image/png": "[encoded data removed]",
      "text/plain": [
       "<matplotlib.figure.Figure at 0x7feda7ef2908>"
      ]
     },
     "metadata": {},
     "output_type": "display_data"
    }
   ],
   "source": [
    "#3.2\n",
    "from scipy.special import comb,factorial\n",
    "N = 4\n",
    "p = 0.70\n",
    "mu = N * p\n",
    "x = np.arange(0, N+1)\n",
    "plt.plot(x, comb(N, x) * p**x *(1 - p)**(N - x), 'o-', label='binomial')\n",
    "plt.plot(x, np.exp(-mu) * mu**x / factorial(x), 'o-', label='Poisson')\n",
    "\n",
    "plt.title('Problem 3.2 - Binomial vs Geometric')\n",
    "plt.xlabel('$n$')\n",
    "plt.ylabel('$P(n)$')\n",
    "\n",
    "plt.legend()\n",
    "plt.show()"
   ]
  },
  {
   "cell_type": "code",
   "execution_count": 4,
   "metadata": {},
   "outputs": [
    {
     "data": {
      "image/png": "[encoded data removed]",
      "text/plain": [
       "<matplotlib.figure.Figure at 0x7feda71c52e8>"
      ]
     },
     "metadata": {},
     "output_type": "display_data"
    }
   ],
   "source": [
    "#3.3\n",
    "from scipy.special import comb,factorial\n",
    "N = 25\n",
    "p = 0.10\n",
    "mu = N * p\n",
    "x = np.arange(0, N+1)\n",
    "plt.plot(x, comb(N, x) * p**x *(1 - p)**(N - x), 'o-', label='binomial')\n",
    "plt.plot(x, np.exp(-mu) * mu**x / factorial(x), 'o-', label='Poisson')\n",
    "\n",
    "plt.title('Problem 3.3 - Binomial vs Geometric')\n",
    "plt.xlabel('$n$')\n",
    "plt.ylabel('$P(n)$')\n",
    "\n",
    "plt.legend()\n",
    "plt.show()"
   ]
  },
  {
   "cell_type": "code",
   "execution_count": 5,
   "metadata": {},
   "outputs": [
    {
     "data": {
      "image/png": "[encoded data removed]",
      "text/plain": [
       "<matplotlib.figure.Figure at 0x7fedae9c9f28>"
      ]
     },
     "metadata": {},
     "output_type": "display_data"
    }
   ],
   "source": [
    "#3.4\n",
    "\n",
    "L = 1 / 4\n",
    "t = np.linspace(0,7,100)\n",
    "tsmall = np.linspace(0,5,100)\n",
    "plt.plot(t, L * np.exp(-L * t))\n",
    "plt.fill_between(tsmall, 0, L * np.exp(-L * tsmall))\n",
    "plt.axvline(x=5)\n",
    "\n",
    "plt.title('Problem 3.4 - Exponential')\n",
    "plt.xlabel('$t$')\n",
    "plt.ylabel('$P(t)$')\n",
    "\n",
    "plt.show()"
   ]
  },
  {
   "cell_type": "markdown",
   "metadata": {},
   "source": [
    "4. Prediction Intervals and Loops (19 Points + 12 EC)\n",
    "===\n",
    "\n",
    "1. [1 point] \"The 95% prediction interval for a geometric probability distribution\" can be described with what mathematical equation? Answer as a $\\LaTeX$ equation. \n",
    "\n",
    "1. [6 points] Using a `for` loop, compute a lower (starting at 0) 90% prediction interval for the binomial distribution with $N = 12, p = 0.3$. \n",
    "\n",
    "2. [6 points] Using a `for` loop, compute an upper (ending at N) 95% prediction interval for the binomial distribution with $N = 20, p = 0.6$.\n",
    "\n",
    "3. [6 points] Using a `for` loop, compute a 80% prediction interval for the geomemtric distribution for $p = 0.02$. Just pick a large number for the upper-bound of the `for` loop. \n",
    "\n",
    "4. [12 Extra Credit Points]. Repeat 4.3 using a `while` loop. \n"
   ]
  },
  {
   "cell_type": "markdown",
   "metadata": {},
   "source": [
    "### 4.1\n",
    "$$\n",
    "P(n < x) = 0.9\n",
    "$$"
   ]
  },
  {
   "cell_type": "code",
   "execution_count": 6,
   "metadata": {},
   "outputs": [
    {
     "name": "stdout",
     "output_type": "stream",
     "text": [
      "Interval is [0, 6]\n"
     ]
    }
   ],
   "source": [
    "#4.2\n",
    "N = 12\n",
    "p = 0.3\n",
    "psum = 0\n",
    "for ni in range(0, N+1):\n",
    "    psum += comb(N, ni) * p**ni * (1 - p)**(N - ni)\n",
    "    if psum >= 0.9:\n",
    "        break\n",
    "print('Interval is [0, {}]'.format(ni))"
   ]
  },
  {
   "cell_type": "code",
   "execution_count": 7,
   "metadata": {},
   "outputs": [
    {
     "name": "stdout",
     "output_type": "stream",
     "text": [
      "Interval is [8, N]\n"
     ]
    }
   ],
   "source": [
    "#4.3\n",
    "N = 20\n",
    "p = 0.6\n",
    "psum = 0\n",
    "#reverse the range so we count down from the top\n",
    "for ni in range(N + 1, -1, -1):\n",
    "    psum += comb(N, ni) * p**ni * (1 - p)**(N - ni)\n",
    "    if psum >= 0.95:\n",
    "        break\n",
    "print('Interval is [{}, N]'.format(ni))"
   ]
  },
  {
   "cell_type": "code",
   "execution_count": 1,
   "metadata": {},
   "outputs": [
    {
     "name": "stdout",
     "output_type": "stream",
     "text": [
      "Interval is [1, 80]\n"
     ]
    }
   ],
   "source": [
    "#4.4\n",
    "\n",
    "p = 0.02\n",
    "psum = 0\n",
    "for ni in range(1, 500):\n",
    "    psum += p * (1 - p) ** (ni - 1)\n",
    "    if psum >= 0.8:\n",
    "        break\n",
    "\n",
    "print('Interval is [1, {}]'.format(ni))"
   ]
  },
  {
   "cell_type": "code",
   "execution_count": 15,
   "metadata": {},
   "outputs": [
    {
     "name": "stdout",
     "output_type": "stream",
     "text": [
      "Interval is [8, N]\n"
     ]
    }
   ],
   "source": [
    "#4.5\n",
    "N = 20\n",
    "p = 0.6\n",
    "psum = 0\n",
    "# count down\n",
    "ni = N\n",
    "while psum < 0.95:\n",
    "    psum += comb(N, ni) * p**ni * (1 - p)**(N - ni)\n",
    "    ni -= 1\n",
    "#add 1, since when we broke we had just subtracted 1\n",
    "print('Interval is [{}, N]'.format(ni + 1))"
   ]
  },
  {
   "cell_type": "markdown",
   "metadata": {},
   "source": [
    "5. Normal Distribution (8 Points)\n",
    "====\n",
    "*Use scipy.stats here as needed. Except for 5.1 and 5.3, answer in Python*.\n",
    "\n",
    "1. [2 points] In the $Z$-score equation $ Z = (x - \\mu) / \\sigma$, what is $x$?\n",
    "2. [1 point] What is $P(x < -2)$ for a *standard* normal distribution?\n",
    "3. [1 point] What is $P(X > 2)$ for a standard normal distribution? Use your knowledge of probability expression, not `scipy.stats` to answer this one.\n",
    "4. [2 points] Given that $\\mu = 2$, $\\sigma = 1.2$, what is the probability of observing a sample between -2 and 0? Answer using a $Z$-score.\n",
    "\n",
    "5. [2 points] Given that $\\mu = 2$, $\\sigma = 1.2$, what is the probability of observing a sample between -2 and 0? Answer *without* using a $Z$-score."
   ]
  },
  {
   "cell_type": "markdown",
   "metadata": {},
   "source": [
    "### 5.1\n",
    "\n",
    "The bounds of an integral"
   ]
  },
  {
   "cell_type": "code",
   "execution_count": 10,
   "metadata": {},
   "outputs": [
    {
     "name": "stdout",
     "output_type": "stream",
     "text": [
      "0.0227501319482\n"
     ]
    }
   ],
   "source": [
    "#5.2\n",
    "\n",
    "import scipy.stats as ss\n",
    "\n",
    "print(ss.norm.cdf(-2))"
   ]
  },
  {
   "cell_type": "markdown",
   "metadata": {},
   "source": [
    "### 5.3\n",
    "$$\n",
    "1 - 0.023 = 0.977\n",
    "$$ "
   ]
  },
  {
   "cell_type": "code",
   "execution_count": 11,
   "metadata": {},
   "outputs": [
    {
     "name": "stdout",
     "output_type": "stream",
     "text": [
      "0.452209647727\n"
     ]
    }
   ],
   "source": [
    "#5.4\n",
    "\n",
    "zlo = (-2 - 0) / 1.2\n",
    "zhi = (0 - 0) / 1.2\n",
    "print(ss.norm.cdf(zhi) - ss.norm.cdf(zlo))"
   ]
  },
  {
   "cell_type": "code",
   "execution_count": 12,
   "metadata": {},
   "outputs": [
    {
     "name": "stdout",
     "output_type": "stream",
     "text": [
      "0.0473612919396\n"
     ]
    }
   ],
   "source": [
    "#5.5\n",
    "print(ss.norm.cdf(0, loc=2, scale=1.2) - ss.norm.cdf(-2, loc=2, scale=1.2))"
   ]
  }
 ],
 "metadata": {
  "kernelspec": {
   "display_name": "Python 3",
   "language": "python",
   "name": "python3"
  },
  "language_info": {
   "codemirror_mode": {
    "name": "ipython",
    "version": 3
   },
   "file_extension": ".py",
   "mimetype": "text/x-python",
   "name": "python",
   "nbconvert_exporter": "python",
   "pygments_lexer": "ipython3",
   "version": "3.6.3"
  }
 },
 "nbformat": 4,
 "nbformat_minor": 2
}
