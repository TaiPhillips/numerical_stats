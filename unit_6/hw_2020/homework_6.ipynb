{
 "cells": [
  {
   "cell_type": "markdown",
   "metadata": {},
   "source": [
    "# Homework 6\n",
    "#### CHE 116: Numerical Methods and Statistics\n",
    "\n",
    "\n",
    "2/21/2020\n",
    "\n",
    "----"
   ]
  },
  {
   "cell_type": "markdown",
   "metadata": {},
   "source": [
    "# 1. Probability Distributions (12 Points)\n",
    "\n",
    "For each distribution below, give **2** real world examples of random numbers that follow the distribution. Give a 1-2 sentence justification for each example including why the sample space is valid. Please avoid examples already seen in lecture. 2 points each\n",
    "\n",
    "1. Bernoulli\n",
    "2. Geometric\n",
    "3. Binomial\n",
    "4. Poisson\n",
    "5. Exponential\n",
    "6. Normal"
   ]
  },
  {
   "cell_type": "markdown",
   "metadata": {},
   "source": [
    "# 2. Plotting Probability Distributions (18 Points)\n",
    "\n",
    "*Label your axes, add a title, and use LaTeX in your labels when necessary. Use dots connected by lines for discrete and lines for continuous. You may use numpy, but not scipy stats*\n",
    "\n",
    "1. [6 points] Plot three different parameters of the binomial distribution: $p = 0.2, p = 0.5, p = 0.8$ where $N=12$ for each case.  Add vertical lines at their means. Accomplish the plot of the three lines using a `for` loop over this list: `[0.2, 0.5, 0.8]`. Be sure to add a legend.\n",
    "\n",
    "2. [4 points] Plot the binomial distribution for $N = 20, p = 0.05$. Recall that the Poisson is an approximation to the Binomial when the expected value is much lower than $N$. Plot the Poisson approximation to this Binomial distribution on the same plot. Add a legend and make the Poisson have a dashed line connecting its points.\n",
    "\n",
    "3. [2 points] Make a second plot with the binomial and Poisson, but use $N = 14, p = 0.6$. How good is the approximation? \n",
    "\n",
    "4. [6 points] See below what your plot should look like. The command `plt.fill_between` can be used to plot an area under a curve. For example, `fill_between(x, y)` will fill the area between 0 and `y`, where `y` could be a `numpy` array. Using `fill_between`, show the cumulative probability function for the standard normal distribution from $Z = -2$ to $Z = 2$. Make your $p(x)$ plot extend from $-5$ to $5$, only have the $-2$ to $2$ region filled. Ensure that there are two lines on your plot: one that is the normal pdf $p(x)$ and one that is the `fill_between`. The pdf should extend further than your `fill_between` line. Use the `ss.norm.pdf` to generate the normal distribution line."
   ]
  },
  {
   "cell_type": "code",
   "execution_count": 2,
   "metadata": {},
   "outputs": [
    {
     "data": {
      "text/html": [
       "<img src=\"data:image/png;base64,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\">"
      ],
      "text/plain": [
       "<IPython.core.display.HTML object>"
      ]
     },
     "execution_count": 2,
     "metadata": {},
     "output_type": "execute_result"
    }
   ],
   "source": [
    "import IPython    \n",
    "IPython.display.HTML('<img src=\"data:image/png;base64,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\">')\n"
   ]
  },
  {
   "cell_type": "markdown",
   "metadata": {},
   "source": [
    "#  3. Prediction Intervals (14 Points)\n",
    "\n",
    "*Do not use numpy or scipy*\n",
    "\n",
    "1. [6 points] Consider a Poisson distribution with $\\mu = 7.5$. Using a `for` loop, show that the interval `[0,50]` includes nearly all probability mass. \n",
    "\n",
    "2. [2 points]  Use the definition of expected value ($\\sum_{x \\in Q} P(x)\\cdot x= E[x]$) to modify your for loop above to compute the expected value. As we know, your answer should be $7.5$.\n",
    "\n",
    "3. [2 points]  Modify your code from problem 1 to compute the 0.99 prediction interval using a `for` loop and `break` statement.\n",
    "\n",
    "4. [4 points] Assume this Poisson distribution describes the number of world records broken at the Olympics. Find the lowest number of world records that will be exceeded 90% of the time. Answer this problem using a `while` loop."
   ]
  },
  {
   "cell_type": "markdown",
   "metadata": {},
   "source": [
    "# 4. Normal Distribution (12 Points)\n",
    "\n",
    "*Use scipy.stats here as needed.*\n",
    "\n",
    "1. [1 point] True or false: $Z$-scores are used to convert samples to a standard normal distribution?\n",
    "2. [1 point] What is $P(x > 4)$ for a *standard* normal distribution?\n",
    "3. [2 points] Given that $\\mu = 4$, $\\sigma = 0.5$, what is the probability of observing a sample between 0 and 2? Answer using a $Z$-score.\n",
    "4. [2 points] `ss.norm.pdf(0, loc=0, scale=0.001)` seems to have a high probability. How is this consistent with normalization?\n",
    "5. [2 points] Given that $\\mu = 1$, $\\sigma = 0.4$, what is the probability of observing a sample between -2 and 2? Answer *without* using a $Z$-score.\n",
    "\n",
    "6. [4 points] What is $P(-3 < x < 3)$ for a *standard* normal distribution? What can you say about intervals that are \"six sigma wide\", $-3\\sigma$ to $3\\sigma$? How often will you see samples outside of this interval?"
   ]
  },
  {
   "cell_type": "markdown",
   "metadata": {},
   "source": [
    "# 5. Sentiment (6 Points)\n",
    "*Answer in 1-2 sentences. No correct answer, just give an honest, meaningful answer to receive credit.*\n",
    "\n",
    "1. Why is probability important to know as a chemical engineer?\n",
    "\n",
    "2. Do you feel confident in understanding probability expressions, like conditionals and marginals?\n",
    "\n",
    "4. Can you imagine yourself using Python in your fluid mechanics or other courses?\n",
    "\n",
    "5. What topic are you most confident in?\n",
    "\n",
    "6. Do you have any feedback for the course?"
   ]
  },
  {
   "cell_type": "code",
   "execution_count": null,
   "metadata": {},
   "outputs": [],
   "source": []
  }
 ],
 "metadata": {
  "kernelspec": {
   "display_name": "Python 3",
   "language": "python",
   "name": "python3"
  },
  "language_info": {
   "codemirror_mode": {
    "name": "ipython",
    "version": 3
   },
   "file_extension": ".py",
   "mimetype": "text/x-python",
   "name": "python",
   "nbconvert_exporter": "python",
   "pygments_lexer": "ipython3",
   "version": "3.7.3"
  }
 },
 "nbformat": 4,
 "nbformat_minor": 2
}
